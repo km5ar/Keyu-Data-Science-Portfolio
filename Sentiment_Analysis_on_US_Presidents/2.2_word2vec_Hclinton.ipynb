{
 "cells": [
  {
   "cell_type": "code",
   "execution_count": 35,
   "metadata": {},
   "outputs": [],
   "source": [
    "import pandas as pd\n",
    "import numpy as np\n",
    "from gensim.models import word2vec\n",
    "from sklearn.manifold import TSNE\n",
    "import plotly_express as px"
   ]
  },
  {
   "cell_type": "code",
   "execution_count": 36,
   "metadata": {},
   "outputs": [],
   "source": [
    "data_in = './data_in'\n",
    "data_out = './data_out'\n",
    "data_prefix = 'novels'"
   ]
  },
  {
   "cell_type": "code",
   "execution_count": 37,
   "metadata": {},
   "outputs": [],
   "source": [
    "#OHCO = ['book', 'chapter', 'para_num', 'sent_num', 'token_num']\n",
    "#PARA = OHCO[:4] # Paragraphs\n",
    "#SENT = OHCO[:5] # Sentences\n",
    "#BAG = PARA\n",
    "\n",
    "\n",
    "OHCO = ['president', 'speech_id', 'para_num', 'sent_num', 'token_num']\n",
    "SENTS = OHCO[:4]\n",
    "PARAS = OHCO[:3]\n",
    "CHAPS = OHCO[:2] # Speeches\n",
    "BOOKS = OHCO[:1] # Presidents\n",
    "\n",
    "\n",
    "BAG = CHAPS\n",
    "# BAG = SENT"
   ]
  },
  {
   "cell_type": "code",
   "execution_count": 38,
   "metadata": {},
   "outputs": [],
   "source": [
    "# word2vec parameters\n",
    "w2v_params = dict(\n",
    "    window = 5,\n",
    "    vector_size = 246,\n",
    "    min_count = 50,\n",
    "    workers = 4\n",
    ")"
   ]
  },
  {
   "cell_type": "code",
   "execution_count": 39,
   "metadata": {},
   "outputs": [],
   "source": [
    "TOKENS = pd.read_csv('TOKEN.csv')#.set_index(OHCO)\n",
    "VOCAB = pd.read_csv('VOCAB.csv')\n",
    "LIB = pd.read_csv('LIB.csv')"
   ]
  },
  {
   "cell_type": "code",
   "execution_count": null,
   "metadata": {},
   "outputs": [],
   "source": []
  },
  {
   "cell_type": "code",
   "execution_count": 40,
   "metadata": {},
   "outputs": [],
   "source": [
    "TOKENS= TOKENS.set_index(OHCO)\n",
    "LIB = LIB.set_index('president')"
   ]
  },
  {
   "cell_type": "code",
   "execution_count": 41,
   "metadata": {},
   "outputs": [
    {
     "data": {
      "text/html": [
       "<div>\n",
       "<style scoped>\n",
       "    .dataframe tbody tr th:only-of-type {\n",
       "        vertical-align: middle;\n",
       "    }\n",
       "\n",
       "    .dataframe tbody tr th {\n",
       "        vertical-align: top;\n",
       "    }\n",
       "\n",
       "    .dataframe thead th {\n",
       "        text-align: right;\n",
       "    }\n",
       "</style>\n",
       "<table border=\"1\" class=\"dataframe\">\n",
       "  <thead>\n",
       "    <tr style=\"text-align: right;\">\n",
       "      <th></th>\n",
       "      <th>Unnamed: 0</th>\n",
       "      <th>speech_id</th>\n",
       "      <th>speech_title</th>\n",
       "      <th>src_file</th>\n",
       "    </tr>\n",
       "    <tr>\n",
       "      <th>president</th>\n",
       "      <th></th>\n",
       "      <th></th>\n",
       "      <th></th>\n",
       "      <th></th>\n",
       "    </tr>\n",
       "  </thead>\n",
       "  <tbody>\n",
       "    <tr>\n",
       "      <th>hclinton</th>\n",
       "      <td>0</td>\n",
       "      <td>HClinton_2016_07_28</td>\n",
       "      <td>Hillary Clinton delivers remarks at the 2016 D...</td>\n",
       "      <td>./Total_Corpus of Presidential Speeches/HClint...</td>\n",
       "    </tr>\n",
       "    <tr>\n",
       "      <th>hclinton</th>\n",
       "      <td>1</td>\n",
       "      <td>HClinton_2016_07_29</td>\n",
       "      <td>Democratic presidential candidate Hillary Clin...</td>\n",
       "      <td>./Total_Corpus of Presidential Speeches/HClint...</td>\n",
       "    </tr>\n",
       "    <tr>\n",
       "      <th>hclinton</th>\n",
       "      <td>2</td>\n",
       "      <td>HClinton_2016_08_01</td>\n",
       "      <td>Hillary Clinton (D), Presidential Candidate, R...</td>\n",
       "      <td>./Total_Corpus of Presidential Speeches/HClint...</td>\n",
       "    </tr>\n",
       "    <tr>\n",
       "      <th>hclinton</th>\n",
       "      <td>3</td>\n",
       "      <td>HClinton_2016_08_05</td>\n",
       "      <td>Hillary Clinton delivers remarks at the Nation...</td>\n",
       "      <td>./Total_Corpus of Presidential Speeches/HClint...</td>\n",
       "    </tr>\n",
       "    <tr>\n",
       "      <th>hclinton</th>\n",
       "      <td>4</td>\n",
       "      <td>HClinton_2016_08_10</td>\n",
       "      <td>Hillary Clinton holds a campaign rally in Des ...</td>\n",
       "      <td>./Total_Corpus of Presidential Speeches/HClint...</td>\n",
       "    </tr>\n",
       "    <tr>\n",
       "      <th>...</th>\n",
       "      <td>...</td>\n",
       "      <td>...</td>\n",
       "      <td>...</td>\n",
       "      <td>...</td>\n",
       "    </tr>\n",
       "    <tr>\n",
       "      <th>wilson - D</th>\n",
       "      <td>1075</td>\n",
       "      <td>wilson_speeches_027</td>\n",
       "      <td>Wilson&amp;#8217;s Fourteen Points</td>\n",
       "      <td>./Total_Corpus of Presidential Speeches/wilson...</td>\n",
       "    </tr>\n",
       "    <tr>\n",
       "      <th>wilson - D</th>\n",
       "      <td>1076</td>\n",
       "      <td>wilson_speeches_028</td>\n",
       "      <td>Sixth Annual Message</td>\n",
       "      <td>./Total_Corpus of Presidential Speeches/wilson...</td>\n",
       "    </tr>\n",
       "    <tr>\n",
       "      <th>wilson - D</th>\n",
       "      <td>1077</td>\n",
       "      <td>wilson_speeches_029</td>\n",
       "      <td>Fifth Annual Message</td>\n",
       "      <td>./Total_Corpus of Presidential Speeches/wilson...</td>\n",
       "    </tr>\n",
       "    <tr>\n",
       "      <th>wilson - D</th>\n",
       "      <td>1078</td>\n",
       "      <td>wilson_speeches_030</td>\n",
       "      <td>Seventh Annual Message</td>\n",
       "      <td>./Total_Corpus of Presidential Speeches/wilson...</td>\n",
       "    </tr>\n",
       "    <tr>\n",
       "      <th>wilson - D</th>\n",
       "      <td>1079</td>\n",
       "      <td>wilson_speeches_031</td>\n",
       "      <td>Eighth Annual Message</td>\n",
       "      <td>./Total_Corpus of Presidential Speeches/wilson...</td>\n",
       "    </tr>\n",
       "  </tbody>\n",
       "</table>\n",
       "<p>1080 rows × 4 columns</p>\n",
       "</div>"
      ],
      "text/plain": [
       "            Unnamed: 0            speech_id  \\\n",
       "president                                     \n",
       "hclinton             0  HClinton_2016_07_28   \n",
       "hclinton             1  HClinton_2016_07_29   \n",
       "hclinton             2  HClinton_2016_08_01   \n",
       "hclinton             3  HClinton_2016_08_05   \n",
       "hclinton             4  HClinton_2016_08_10   \n",
       "...                ...                  ...   \n",
       "wilson - D        1075  wilson_speeches_027   \n",
       "wilson - D        1076  wilson_speeches_028   \n",
       "wilson - D        1077  wilson_speeches_029   \n",
       "wilson - D        1078  wilson_speeches_030   \n",
       "wilson - D        1079  wilson_speeches_031   \n",
       "\n",
       "                                                 speech_title  \\\n",
       "president                                                       \n",
       "hclinton    Hillary Clinton delivers remarks at the 2016 D...   \n",
       "hclinton    Democratic presidential candidate Hillary Clin...   \n",
       "hclinton    Hillary Clinton (D), Presidential Candidate, R...   \n",
       "hclinton    Hillary Clinton delivers remarks at the Nation...   \n",
       "hclinton    Hillary Clinton holds a campaign rally in Des ...   \n",
       "...                                                       ...   \n",
       "wilson - D                     Wilson&#8217;s Fourteen Points   \n",
       "wilson - D                               Sixth Annual Message   \n",
       "wilson - D                               Fifth Annual Message   \n",
       "wilson - D                             Seventh Annual Message   \n",
       "wilson - D                              Eighth Annual Message   \n",
       "\n",
       "                                                     src_file  \n",
       "president                                                      \n",
       "hclinton    ./Total_Corpus of Presidential Speeches/HClint...  \n",
       "hclinton    ./Total_Corpus of Presidential Speeches/HClint...  \n",
       "hclinton    ./Total_Corpus of Presidential Speeches/HClint...  \n",
       "hclinton    ./Total_Corpus of Presidential Speeches/HClint...  \n",
       "hclinton    ./Total_Corpus of Presidential Speeches/HClint...  \n",
       "...                                                       ...  \n",
       "wilson - D  ./Total_Corpus of Presidential Speeches/wilson...  \n",
       "wilson - D  ./Total_Corpus of Presidential Speeches/wilson...  \n",
       "wilson - D  ./Total_Corpus of Presidential Speeches/wilson...  \n",
       "wilson - D  ./Total_Corpus of Presidential Speeches/wilson...  \n",
       "wilson - D  ./Total_Corpus of Presidential Speeches/wilson...  \n",
       "\n",
       "[1080 rows x 4 columns]"
      ]
     },
     "execution_count": 41,
     "metadata": {},
     "output_type": "execute_result"
    }
   ],
   "source": [
    "LIB"
   ]
  },
  {
   "cell_type": "code",
   "execution_count": 42,
   "metadata": {},
   "outputs": [
    {
     "data": {
      "text/html": [
       "<div>\n",
       "<style scoped>\n",
       "    .dataframe tbody tr th:only-of-type {\n",
       "        vertical-align: middle;\n",
       "    }\n",
       "\n",
       "    .dataframe tbody tr th {\n",
       "        vertical-align: top;\n",
       "    }\n",
       "\n",
       "    .dataframe thead th {\n",
       "        text-align: right;\n",
       "    }\n",
       "</style>\n",
       "<table border=\"1\" class=\"dataframe\">\n",
       "  <thead>\n",
       "    <tr style=\"text-align: right;\">\n",
       "      <th></th>\n",
       "      <th></th>\n",
       "      <th></th>\n",
       "      <th></th>\n",
       "      <th></th>\n",
       "      <th>pos_tuple</th>\n",
       "      <th>pos</th>\n",
       "      <th>token_str</th>\n",
       "      <th>term_str</th>\n",
       "    </tr>\n",
       "    <tr>\n",
       "      <th>president</th>\n",
       "      <th>speech_id</th>\n",
       "      <th>para_num</th>\n",
       "      <th>sent_num</th>\n",
       "      <th>token_num</th>\n",
       "      <th></th>\n",
       "      <th></th>\n",
       "      <th></th>\n",
       "      <th></th>\n",
       "    </tr>\n",
       "  </thead>\n",
       "  <tbody>\n",
       "    <tr>\n",
       "      <th rowspan=\"5\" valign=\"top\">hclinton</th>\n",
       "      <th rowspan=\"5\" valign=\"top\">HClinton_2016_07_28</th>\n",
       "      <th rowspan=\"5\" valign=\"top\">0</th>\n",
       "      <th rowspan=\"3\" valign=\"top\">0</th>\n",
       "      <th>0</th>\n",
       "      <td>('&lt;CLINTON:&gt;', 'JJ')</td>\n",
       "      <td>JJ</td>\n",
       "      <td>&lt;CLINTON:&gt;</td>\n",
       "      <td>clinton</td>\n",
       "    </tr>\n",
       "    <tr>\n",
       "      <th>1</th>\n",
       "      <td>('Thank', 'NNP')</td>\n",
       "      <td>NNP</td>\n",
       "      <td>Thank</td>\n",
       "      <td>thank</td>\n",
       "    </tr>\n",
       "    <tr>\n",
       "      <th>2</th>\n",
       "      <td>('you!', 'NN')</td>\n",
       "      <td>NN</td>\n",
       "      <td>you!</td>\n",
       "      <td>you</td>\n",
       "    </tr>\n",
       "    <tr>\n",
       "      <th rowspan=\"2\" valign=\"top\">1</th>\n",
       "      <th>0</th>\n",
       "      <td>('Thank', 'NNP')</td>\n",
       "      <td>NNP</td>\n",
       "      <td>Thank</td>\n",
       "      <td>thank</td>\n",
       "    </tr>\n",
       "    <tr>\n",
       "      <th>1</th>\n",
       "      <td>('you!', 'NN')</td>\n",
       "      <td>NN</td>\n",
       "      <td>you!</td>\n",
       "      <td>you</td>\n",
       "    </tr>\n",
       "    <tr>\n",
       "      <th>...</th>\n",
       "      <th>...</th>\n",
       "      <th>...</th>\n",
       "      <th>...</th>\n",
       "      <th>...</th>\n",
       "      <td>...</td>\n",
       "      <td>...</td>\n",
       "      <td>...</td>\n",
       "      <td>...</td>\n",
       "    </tr>\n",
       "    <tr>\n",
       "      <th rowspan=\"5\" valign=\"top\">wilson</th>\n",
       "      <th rowspan=\"5\" valign=\"top\">wilson_speeches_031</th>\n",
       "      <th rowspan=\"5\" valign=\"top\">18</th>\n",
       "      <th rowspan=\"5\" valign=\"top\">1</th>\n",
       "      <th>28</th>\n",
       "      <td>('whether', 'IN')</td>\n",
       "      <td>IN</td>\n",
       "      <td>whether</td>\n",
       "      <td>whether</td>\n",
       "    </tr>\n",
       "    <tr>\n",
       "      <th>29</th>\n",
       "      <td>('in', 'IN')</td>\n",
       "      <td>IN</td>\n",
       "      <td>in</td>\n",
       "      <td>in</td>\n",
       "    </tr>\n",
       "    <tr>\n",
       "      <th>30</th>\n",
       "      <td>('America', 'NNP')</td>\n",
       "      <td>NNP</td>\n",
       "      <td>America</td>\n",
       "      <td>america</td>\n",
       "    </tr>\n",
       "    <tr>\n",
       "      <th>31</th>\n",
       "      <td>('or', 'CC')</td>\n",
       "      <td>CC</td>\n",
       "      <td>or</td>\n",
       "      <td>or</td>\n",
       "    </tr>\n",
       "    <tr>\n",
       "      <th>32</th>\n",
       "      <td>('elsewhere.', 'VB')</td>\n",
       "      <td>VB</td>\n",
       "      <td>elsewhere.</td>\n",
       "      <td>elsewhere</td>\n",
       "    </tr>\n",
       "  </tbody>\n",
       "</table>\n",
       "<p>3311842 rows × 4 columns</p>\n",
       "</div>"
      ],
      "text/plain": [
       "                                                                      pos_tuple  \\\n",
       "president speech_id           para_num sent_num token_num                         \n",
       "hclinton  HClinton_2016_07_28 0        0        0          ('<CLINTON:>', 'JJ')   \n",
       "                                                1              ('Thank', 'NNP')   \n",
       "                                                2                ('you!', 'NN')   \n",
       "                                       1        0              ('Thank', 'NNP')   \n",
       "                                                1                ('you!', 'NN')   \n",
       "...                                                                         ...   \n",
       "wilson    wilson_speeches_031 18       1        28            ('whether', 'IN')   \n",
       "                                                29                 ('in', 'IN')   \n",
       "                                                30           ('America', 'NNP')   \n",
       "                                                31                 ('or', 'CC')   \n",
       "                                                32         ('elsewhere.', 'VB')   \n",
       "\n",
       "                                                           pos   token_str  \\\n",
       "president speech_id           para_num sent_num token_num                    \n",
       "hclinton  HClinton_2016_07_28 0        0        0           JJ  <CLINTON:>   \n",
       "                                                1          NNP       Thank   \n",
       "                                                2           NN        you!   \n",
       "                                       1        0          NNP       Thank   \n",
       "                                                1           NN        you!   \n",
       "...                                                        ...         ...   \n",
       "wilson    wilson_speeches_031 18       1        28          IN     whether   \n",
       "                                                29          IN          in   \n",
       "                                                30         NNP     America   \n",
       "                                                31          CC          or   \n",
       "                                                32          VB  elsewhere.   \n",
       "\n",
       "                                                            term_str  \n",
       "president speech_id           para_num sent_num token_num             \n",
       "hclinton  HClinton_2016_07_28 0        0        0            clinton  \n",
       "                                                1              thank  \n",
       "                                                2                you  \n",
       "                                       1        0              thank  \n",
       "                                                1                you  \n",
       "...                                                              ...  \n",
       "wilson    wilson_speeches_031 18       1        28           whether  \n",
       "                                                29                in  \n",
       "                                                30           america  \n",
       "                                                31                or  \n",
       "                                                32         elsewhere  \n",
       "\n",
       "[3311842 rows x 4 columns]"
      ]
     },
     "execution_count": 42,
     "metadata": {},
     "output_type": "execute_result"
    }
   ],
   "source": [
    "TOKENS"
   ]
  },
  {
   "cell_type": "code",
   "execution_count": 43,
   "metadata": {},
   "outputs": [],
   "source": [
    "DOCS = TOKENS[~TOKENS.pos.str.match('NNPS?')]\\\n",
    "    .groupby(BAG)\\\n",
    "    .term_str.apply(lambda  x:  x.tolist())\\\n",
    "    .reset_index()['term_str'].tolist()\n",
    "DOCS = [doc for doc in DOCS if len(doc) > 1] # Lose single word docs"
   ]
  },
  {
   "cell_type": "code",
   "execution_count": 44,
   "metadata": {},
   "outputs": [
    {
     "data": {
      "text/plain": [
       "(36, 4)"
      ]
     },
     "execution_count": 44,
     "metadata": {},
     "output_type": "execute_result"
    }
   ],
   "source": [
    "LIB.loc['hclinton'].shape"
   ]
  },
  {
   "cell_type": "code",
   "execution_count": 45,
   "metadata": {},
   "outputs": [],
   "source": [
    "LIB = LIB.loc['hclinton']"
   ]
  },
  {
   "cell_type": "code",
   "execution_count": 46,
   "metadata": {},
   "outputs": [],
   "source": [
    "#TOKENS.loc['hclinton']"
   ]
  },
  {
   "cell_type": "code",
   "execution_count": 47,
   "metadata": {},
   "outputs": [],
   "source": [
    "model = word2vec.Word2Vec(DOCS, **w2v_params)"
   ]
  },
  {
   "cell_type": "code",
   "execution_count": 48,
   "metadata": {},
   "outputs": [],
   "source": [
    "\n",
    "#LIB2 = LIB[LIB['author'] == 'melville']\n",
    "TRUMP = TOKENS.loc['hclinton']\n",
    "#melville = TOKENS.loc[LIB2.index]"
   ]
  },
  {
   "cell_type": "code",
   "execution_count": 49,
   "metadata": {},
   "outputs": [],
   "source": [
    "POS = [\"NN\", \"NNS\", \"VB\", \"VBD\", \"VBG\", \"VBN\", \"VBP\", \"VBZ\"]\n",
    "LIB = TRUMP[TRUMP[\"pos\"].isin(POS)]"
   ]
  },
  {
   "cell_type": "code",
   "execution_count": 50,
   "metadata": {},
   "outputs": [],
   "source": [
    "OHCO = ['speech_id', 'para_num', 'sent_num', 'token_num']\n",
    "SENTS = OHCO[:4]\n",
    "PARAS = OHCO[:3]\n",
    "CHAPS = OHCO[:2] # \n",
    "BOOKS = OHCO[:1] # speech\n",
    "\n",
    "\n",
    "BAG = BOOKS"
   ]
  },
  {
   "cell_type": "code",
   "execution_count": 51,
   "metadata": {},
   "outputs": [],
   "source": [
    "POS = [\"NN\", \"NNS\", \"VB\", \"VBD\", \"VBG\", \"VBN\", \"VBP\", \"VBZ\"]\n",
    "LIB = TRUMP[TRUMP[\"pos\"].isin(POS)]\n",
    "DOCS = TRUMP\\\n",
    "    .groupby(BAG)\\\n",
    "    .term_str.apply(lambda  x:  x.tolist())\\\n",
    "    .reset_index()['term_str'].tolist()"
   ]
  },
  {
   "cell_type": "code",
   "execution_count": 52,
   "metadata": {},
   "outputs": [],
   "source": [
    "DOCS = [doc for doc in DOCS if len(doc) > 1] \n",
    "model = word2vec.Word2Vec(DOCS, **w2v_params)"
   ]
  },
  {
   "cell_type": "code",
   "execution_count": 53,
   "metadata": {},
   "outputs": [],
   "source": [
    "coords = pd.DataFrame(\n",
    "    dict(\n",
    "        vector = [model.wv.get_vector(w) for w in model.wv.key_to_index], \n",
    "        term_str = model.wv.index_to_key    # \n",
    "    )).set_index('term_str')"
   ]
  },
  {
   "cell_type": "code",
   "execution_count": 54,
   "metadata": {},
   "outputs": [],
   "source": [
    "tsne_engine = TSNE(perplexity=40, n_components=2, init='pca', n_iter=2500, random_state=23)\n",
    "tsne_model = tsne_engine.fit_transform(coords.vector.to_list())"
   ]
  },
  {
   "cell_type": "code",
   "execution_count": 55,
   "metadata": {},
   "outputs": [],
   "source": [
    "coords['x'] = tsne_model[:,0]\n",
    "coords['y'] = tsne_model[:,1]"
   ]
  },
  {
   "cell_type": "code",
   "execution_count": 56,
   "metadata": {},
   "outputs": [],
   "source": [
    "if coords.shape[1] == 3:\n",
    "    coords = coords.merge(VOCAB.reset_index(), on='term_str')\n",
    "    coords = coords.set_index('term_str')"
   ]
  },
  {
   "cell_type": "code",
   "execution_count": 57,
   "metadata": {
    "tags": []
   },
   "outputs": [],
   "source": [
    "coords = coords[coords.stop == 0]\n"
   ]
  },
  {
   "cell_type": "code",
   "execution_count": 58,
   "metadata": {},
   "outputs": [],
   "source": [
    "coords = coords.dropna()"
   ]
  },
  {
   "cell_type": "code",
   "execution_count": 59,
   "metadata": {},
   "outputs": [
    {
     "data": {
      "application/vnd.plotly.v1+json": {
       "config": {
        "plotlyServerURL": "https://plot.ly"
       },
       "data": [
        {
         "hovertemplate": "<b>%{hovertext}</b><br><br>pos_max=NNP<br>x=%{x}<br>y=%{y}<br>tfidf_sum_speech_max=%{marker.size}<br>term_str=%{text}<extra></extra>",
         "hovertext": [
          "applause",
          "america",
          "well",
          "say",
          "like",
          "need",
          "lot",
          "pay",
          "families",
          "also",
          "family",
          "look",
          "care",
          "audience",
          "made",
          "best",
          "lives",
          "national",
          "real",
          "love",
          "stronger",
          "ask",
          "question",
          "taxes",
          "long",
          "getting",
          "single",
          "millions",
          "next"
         ],
         "legendgroup": "NNP",
         "marker": {
          "color": "#636efa",
          "size": [
           15788.552536117177,
           2479.719447093141,
           1532.6441562065463,
           2160.5547423255284,
           2134.510364263213,
           1730.6831170688993,
           2263.3904473722323,
           1487.388364460015,
           1518.5391244705909,
           1299.8780277016858,
           1314.8753712618736,
           1968.5005933250768,
           1972.95600843343,
           2038.941008107331,
           1360.998051322742,
           1252.588733484536,
           1143.1332200312556,
           1665.362192052686,
           1024.492936917431,
           1375.1551091584415,
           745.7387140786493,
           1285.704213857268,
           2148.624734521876,
           1529.8140348466184,
           1052.372902348262,
           1063.6631030979547,
           889.1676317630277,
           1244.2317373945714,
           1258.214598308165
          ],
          "sizemode": "area",
          "sizeref": 39.47138134029294,
          "symbol": "circle"
         },
         "mode": "markers+text",
         "name": "NNP",
         "orientation": "v",
         "showlegend": true,
         "text": [
          "applause",
          "america",
          "well",
          "say",
          "like",
          "need",
          "lot",
          "pay",
          "families",
          "also",
          "family",
          "look",
          "care",
          "audience",
          "made",
          "best",
          "lives",
          "national",
          "real",
          "love",
          "stronger",
          "ask",
          "question",
          "taxes",
          "long",
          "getting",
          "single",
          "millions",
          "next"
         ],
         "textfont": {
          "color": "black",
          "family": "Arial",
          "size": 14
         },
         "textposition": "top center",
         "type": "scatter",
         "x": [
          9.60909652709961,
          -2.0295770168304443,
          11.43624496459961,
          10.516931533813477,
          4.045894622802734,
          -10.730010986328125,
          5.796303749084473,
          -5.725799083709717,
          -5.214573860168457,
          3.603658437728882,
          1.8528856039047241,
          8.476691246032715,
          -0.09606853872537613,
          11.53633975982666,
          1.9337456226348877,
          -3.02553129196167,
          -4.0227580070495605,
          -2.197237730026245,
          -0.054395657032728195,
          6.715750217437744,
          -5.508888244628906,
          3.0762953758239746,
          8.783523559570312,
          -1.0358762741088867,
          -1.3281917572021484,
          -0.17707516252994537,
          -1.4823888540267944,
          -3.7610015869140625,
          6.8266215324401855
         ],
         "xaxis": "x",
         "y": [
          6.8157243728637695,
          -5.51979923248291,
          4.876891613006592,
          5.390942573547363,
          -3.8899807929992676,
          -4.327472686767578,
          -7.165625095367432,
          -6.109393119812012,
          -8.754594802856445,
          4.630965709686279,
          -4.948533058166504,
          1.2208056449890137,
          -4.3123602867126465,
          8.809614181518555,
          -0.6662664413452148,
          -0.0920809656381607,
          -3.35176682472229,
          1.8021557331085205,
          -2.0103843212127686,
          6.597262859344482,
          0.10897776484489441,
          4.421965599060059,
          4.717547416687012,
          2.5113303661346436,
          1.8278796672821045,
          -3.072242498397827,
          -3.9824721813201904,
          2.1995773315429688,
          6.521503448486328
         ],
         "yaxis": "y"
        },
        {
         "hovertemplate": "<b>%{hovertext}</b><br><br>pos_max=NN<br>x=%{x}<br>y=%{y}<br>tfidf_sum_speech_max=%{marker.size}<br>term_str=%{text}<extra></extra>",
         "hovertext": [
          "know",
          "want",
          "get",
          "make",
          "thats",
          "every",
          "right",
          "hillary",
          "tell",
          "new",
          "weve",
          "see",
          "even",
          "sure",
          "never",
          "much",
          "hes",
          "cant",
          "college",
          "something",
          "small",
          "state",
          "things",
          "tax",
          "kids",
          "give",
          "big",
          "better",
          "let",
          "business",
          "making",
          "friends",
          "says",
          "today",
          "talk",
          "million",
          "life",
          "school",
          "build",
          "theyre",
          "enough",
          "bring",
          "theres",
          "else",
          "around",
          "service",
          "proud"
         ],
         "legendgroup": "NN",
         "marker": {
          "color": "#EF553B",
          "size": [
           3367.726804813787,
           2761.350163770051,
           3653.403333157866,
           1402.9109985671746,
           4786.70760820988,
           1475.2319569646068,
           2014.7865020736288,
           4796.990450189495,
           1882.471509542292,
           1888.57424113658,
           2715.5664036558983,
           1595.996602922153,
           1372.0513757995188,
           1118.4811079983228,
           1539.0200993867372,
           1513.019088539011,
           1858.5918982796911,
           2029.872847224372,
           1151.3313778406089,
           1280.7384314966423,
           1140.0734266477143,
           1914.8842251517292,
           1518.4253825990422,
           2697.9593670571944,
           944.3103767348402,
           1097.4420237509296,
           1723.8717809711388,
           1414.6254642276886,
           1667.4401982913,
           2110.2446074053064,
           1111.056664802979,
           910.2280843041186,
           963.3049414232064,
           1886.7276334547869,
           1243.8791419007289,
           1741.397392977391,
           1249.6776375893587,
           1349.4231701594672,
           1492.3061353770922,
           3827.64751587733,
           946.1642745964482,
           1087.8697092971604,
           1442.0891192793954,
           845.2340925143957,
           1134.9458127299288,
           2120.841574133997,
           936.2603215573964
          ],
          "sizemode": "area",
          "sizeref": 39.47138134029294,
          "symbol": "circle"
         },
         "mode": "markers+text",
         "name": "NN",
         "orientation": "v",
         "showlegend": true,
         "text": [
          "know",
          "want",
          "get",
          "make",
          "thats",
          "every",
          "right",
          "hillary",
          "tell",
          "new",
          "weve",
          "see",
          "even",
          "sure",
          "never",
          "much",
          "hes",
          "cant",
          "college",
          "something",
          "small",
          "state",
          "things",
          "tax",
          "kids",
          "give",
          "big",
          "better",
          "let",
          "business",
          "making",
          "friends",
          "says",
          "today",
          "talk",
          "million",
          "life",
          "school",
          "build",
          "theyre",
          "enough",
          "bring",
          "theres",
          "else",
          "around",
          "service",
          "proud"
         ],
         "textfont": {
          "color": "black",
          "family": "Arial",
          "size": 14
         },
         "textposition": "top center",
         "type": "scatter",
         "x": [
          11.793429374694824,
          -11.382465362548828,
          -10.612541198730469,
          -11.340668678283691,
          8.642264366149902,
          -5.0224175453186035,
          9.751829147338867,
          11.593670845031738,
          11.57859992980957,
          -4.654238224029541,
          -7.796412467956543,
          7.74146842956543,
          3.409954786300659,
          -8.666608810424805,
          2.9591269493103027,
          9.814384460449219,
          1.0461838245391846,
          2.6694529056549072,
          -6.550777912139893,
          8.84040641784668,
          2.5326132774353027,
          0.12445490807294846,
          3.9373464584350586,
          -0.15548738837242126,
          -3.662550687789917,
          -1.5499341487884521,
          2.133613348007202,
          -5.769214630126953,
          8.03367805480957,
          1.9235442876815796,
          -2.4535768032073975,
          4.6888885498046875,
          7.0308122634887695,
          4.56788444519043,
          4.7938432693481445,
          1.675719141960144,
          -0.47658661007881165,
          0.4739009141921997,
          -5.855589866638184,
          -1.5510728359222412,
          -2.188899278640747,
          -7.28352165222168,
          8.132598876953125,
          7.287032127380371,
          0.44689494371414185,
          -1.0724960565567017,
          -1.7408638000488281
         ],
         "xaxis": "x",
         "y": [
          6.018106937408447,
          -1.4210835695266724,
          -4.9989118576049805,
          -4.783196926116943,
          -0.3959698975086212,
          -7.9940338134765625,
          4.171535491943359,
          9.415995597839355,
          6.398741722106934,
          3.676154613494873,
          0.9288135766983032,
          4.906965255737305,
          -5.955883979797363,
          -3.686521291732788,
          -5.627024173736572,
          6.178691387176514,
          8.968040466308594,
          1.8505604267120361,
          -1.0342084169387817,
          2.702414035797119,
          -6.266242027282715,
          2.1563990116119385,
          -4.0993170738220215,
          7.22731876373291,
          -4.989398002624512,
          -0.8772549629211426,
          -1.1788735389709473,
          -5.002840518951416,
          1.9964905977249146,
          -2.364227294921875,
          -4.02593469619751,
          3.7276909351348877,
          -1.9533823728561401,
          -0.2371916025876999,
          2.7573227882385254,
          -7.381432056427002,
          0.9890756011009216,
          -2.7570507526397705,
          -4.541154861450195,
          -2.8862662315368652,
          -0.6435443758964539,
          -3.6270368099212646,
          1.2446905374526978,
          1.9012099504470825,
          -4.471279621124268,
          -0.029260607436299324,
          3.285287618637085
         ],
         "yaxis": "y"
        },
        {
         "hovertemplate": "<b>%{hovertext}</b><br><br>pos_max=JJ<br>x=%{x}<br>y=%{y}<br>tfidf_sum_speech_max=%{marker.size}<br>term_str=%{text}<extra></extra>",
         "hovertext": [
          "people",
          "clinton",
          "work",
          "country",
          "dont",
          "would",
          "back",
          "great",
          "americans",
          "ive",
          "election",
          "working",
          "economy",
          "years",
          "world",
          "young",
          "kind",
          "states",
          "future",
          "doesnt",
          "job",
          "year",
          "across",
          "part",
          "still",
          "yes",
          "person",
          "workers",
          "ahead",
          "military",
          "maybe",
          "chance"
         ],
         "legendgroup": "JJ",
         "marker": {
          "color": "#00cc96",
          "size": [
           2320.333400774893,
           4419.575016572235,
           2132.0015192622645,
           1702.0495460738966,
           5090.812773350015,
           2072.9789584221453,
           2067.1600861927614,
           1751.9714859542462,
           2115.5116225635525,
           2307.492512660925,
           1476.6062328163205,
           1454.2856793496992,
           1806.2189033183972,
           2082.212924678249,
           2401.8939658282666,
           1304.978040303039,
           1172.7040817949162,
           1530.184350930776,
           1407.024891546144,
           1397.7454019776458,
           1711.4990695866422,
           2355.924546914559,
           1065.639219877108,
           1153.2811297684657,
           1150.7967934720432,
           1302.920668651905,
           1184.7964706441371,
           1418.2098632843738,
           994.1462920298126,
           1848.12967417867,
           909.1930196062956,
           1057.180682257872
          ],
          "sizemode": "area",
          "sizeref": 39.47138134029294,
          "symbol": "circle"
         },
         "mode": "markers+text",
         "name": "JJ",
         "orientation": "v",
         "showlegend": true,
         "text": [
          "people",
          "clinton",
          "work",
          "country",
          "dont",
          "would",
          "back",
          "great",
          "americans",
          "ive",
          "election",
          "working",
          "economy",
          "years",
          "world",
          "young",
          "kind",
          "states",
          "future",
          "doesnt",
          "job",
          "year",
          "across",
          "part",
          "still",
          "yes",
          "person",
          "workers",
          "ahead",
          "military",
          "maybe",
          "chance"
         ],
         "textfont": {
          "color": "black",
          "family": "Arial",
          "size": 14
         },
         "textposition": "top center",
         "type": "scatter",
         "x": [
          -6.527029991149902,
          11.548123359680176,
          -10.277726173400879,
          -8.438508987426758,
          12.83646297454834,
          1.223060131072998,
          -2.5489516258239746,
          7.264571189880371,
          -4.850834846496582,
          8.762243270874023,
          3.3120086193084717,
          -5.341327667236328,
          -7.944962501525879,
          5.182953834533691,
          -4.626967430114746,
          -3.3570055961608887,
          -4.557724952697754,
          4.548566818237305,
          -7.510634899139404,
          5.707300662994385,
          -0.43210986256599426,
          2.4416403770446777,
          -3.1426854133605957,
          -3.3362460136413574,
          -0.6436259746551514,
          9.164663314819336,
          0.4080820083618164,
          0.24425441026687622,
          -4.068643569946289,
          -3.7765774726867676,
          0.2322983294725418,
          -2.9883193969726562
         ],
         "xaxis": "x",
         "y": [
          -8.439203262329102,
          8.913832664489746,
          -4.769921779632568,
          -6.234389781951904,
          2.7319159507751465,
          9.815177917480469,
          -2.6175076961517334,
          5.721521377563477,
          -4.926410675048828,
          1.0147950649261475,
          2.621546983718872,
          -8.270257949829102,
          -6.1847968101501465,
          -1.555700421333313,
          3.666591167449951,
          -7.634889125823975,
          1.4749032258987427,
          0.7608122229576111,
          -2.1992673873901367,
          -3.546961784362793,
          -4.044772148132324,
          -1.4915683269500732,
          -1.1005918979644775,
          1.512675404548645,
          -2.414997100830078,
          6.284306526184082,
          -3.2072291374206543,
          -5.354946613311768,
          1.1217689514160156,
          2.8494715690612793,
          1.6612173318862915,
          2.075754404067993
         ],
         "yaxis": "y"
        },
        {
         "hovertemplate": "<b>%{hovertext}</b><br><br>pos_max=VB<br>x=%{x}<br>y=%{y}<br>tfidf_sum_speech_max=%{marker.size}<br>term_str=%{text}<extra></extra>",
         "hovertext": [
          "going",
          "president",
          "said",
          "first",
          "keep",
          "stand",
          "education",
          "home",
          "secretary"
         ],
         "legendgroup": "VB",
         "marker": {
          "color": "#ab63fa",
          "size": [
           7828.914181295416,
           2790.662612995688,
           2452.5580429064,
           1202.8773725439771,
           1331.634791139433,
           1024.9043298707652,
           1543.2348965731858,
           1240.676675075211,
           1783.1152601052845
          ],
          "sizemode": "area",
          "sizeref": 39.47138134029294,
          "symbol": "circle"
         },
         "mode": "markers+text",
         "name": "VB",
         "orientation": "v",
         "showlegend": true,
         "text": [
          "going",
          "president",
          "said",
          "first",
          "keep",
          "stand",
          "education",
          "home",
          "secretary"
         ],
         "textfont": {
          "color": "black",
          "family": "Arial",
          "size": 14
         },
         "textposition": "top center",
         "type": "scatter",
         "x": [
          -12.270946502685547,
          1.4674103260040283,
          2.8798680305480957,
          3.7561452388763428,
          -7.547398090362549,
          -2.485201358795166,
          -4.722768306732178,
          -0.02036724053323269,
          9.084966659545898
         ],
         "xaxis": "x",
         "y": [
          -5.01149320602417,
          3.862536907196045,
          10.552807807922363,
          -1.4142043590545654,
          -3.632248878479004,
          0.686398983001709,
          -4.6758832931518555,
          -1.4880603551864624,
          5.943493843078613
         ],
         "yaxis": "y"
        },
        {
         "hovertemplate": "<b>%{hovertext}</b><br><br>pos_max=VBZ<br>x=%{x}<br>y=%{y}<br>tfidf_sum_speech_max=%{marker.size}<br>term_str=%{text}<extra></extra>",
         "hovertext": [
          "trump",
          "two"
         ],
         "legendgroup": "VBZ",
         "marker": {
          "color": "#FFA15A",
          "size": [
           7756.258768514946,
           1457.0201115505356
          ],
          "sizemode": "area",
          "sizeref": 39.47138134029294,
          "symbol": "circle"
         },
         "mode": "markers+text",
         "name": "VBZ",
         "orientation": "v",
         "showlegend": true,
         "text": [
          "trump",
          "two"
         ],
         "textfont": {
          "color": "black",
          "family": "Arial",
          "size": 14
         },
         "textposition": "top center",
         "type": "scatter",
         "x": [
          2.9091193675994873,
          3.335458517074585
         ],
         "xaxis": "x",
         "y": [
          11.952400207519531,
          -2.838693380355835
         ],
         "yaxis": "y"
        },
        {
         "hovertemplate": "<b>%{hovertext}</b><br><br>pos_max=IN<br>x=%{x}<br>y=%{y}<br>tfidf_sum_speech_max=%{marker.size}<br>term_str=%{text}<extra></extra>",
         "hovertext": [
          "us"
         ],
         "legendgroup": "IN",
         "marker": {
          "color": "#19d3f3",
          "size": [
           2138.982971535428
          ],
          "sizemode": "area",
          "sizeref": 39.47138134029294,
          "symbol": "circle"
         },
         "mode": "markers+text",
         "name": "IN",
         "orientation": "v",
         "showlegend": true,
         "text": [
          "us"
         ],
         "textfont": {
          "color": "black",
          "family": "Arial",
          "size": 14
         },
         "textposition": "top center",
         "type": "scatter",
         "x": [
          4.150819301605225
         ],
         "xaxis": "x",
         "y": [
          4.672215938568115
         ],
         "yaxis": "y"
        },
        {
         "hovertemplate": "<b>%{hovertext}</b><br><br>pos_max=VBG<br>x=%{x}<br>y=%{y}<br>tfidf_sum_speech_max=%{marker.size}<br>term_str=%{text}<extra></extra>",
         "hovertext": [
          "think",
          "got",
          "go",
          "jobs",
          "many",
          "way",
          "day",
          "take",
          "lets",
          "come",
          "republicans"
         ],
         "legendgroup": "VBG",
         "marker": {
          "color": "#FF6692",
          "size": [
           3540.0938461750925,
           3176.9687035552583,
           1900.466435109011,
           3768.6326493680326,
           1406.6535200022715,
           1594.9973308946082,
           924.2996004980924,
           1264.7138680154007,
           1544.9742395857145,
           1432.5689407963798,
           1017.5149636427332
          ],
          "sizemode": "area",
          "sizeref": 39.47138134029294,
          "symbol": "circle"
         },
         "mode": "markers+text",
         "name": "VBG",
         "orientation": "v",
         "showlegend": true,
         "text": [
          "think",
          "got",
          "go",
          "jobs",
          "many",
          "way",
          "day",
          "take",
          "lets",
          "come",
          "republicans"
         ],
         "textfont": {
          "color": "black",
          "family": "Arial",
          "size": 14
         },
         "textposition": "top center",
         "type": "scatter",
         "x": [
          12.261691093444824,
          -7.7159810066223145,
          -9.476946830749512,
          -7.48881721496582,
          3.863442897796631,
          1.979655385017395,
          1.1761647462844849,
          -5.762608528137207,
          5.504367828369141,
          -1.8268980979919434,
          -2.6595184803009033
         ],
         "xaxis": "x",
         "y": [
          0.9814399480819702,
          1.5803858041763306,
          -0.7017346620559692,
          -8.265082359313965,
          0.13217324018478394,
          -4.359434604644775,
          -5.72389030456543,
          -1.6829460859298706,
          3.586190700531006,
          -2.291337251663208,
          1.6049641370773315
         ],
         "yaxis": "y"
        },
        {
         "hovertemplate": "<b>%{hovertext}</b><br><br>pos_max=NNS<br>x=%{x}<br>y=%{y}<br>tfidf_sum_speech_max=%{marker.size}<br>term_str=%{text}<extra></extra>",
         "hovertext": [
          "one",
          "together",
          "believe",
          "vote",
          "hard",
          "campaign",
          "women",
          "everybody",
          "united",
          "inaudible",
          "done",
          "ever",
          "mean",
          "health",
          "laughter",
          "plan",
          "debt",
          "high",
          "businesses",
          "man",
          "start",
          "place"
         ],
         "legendgroup": "NNS",
         "marker": {
          "color": "#B6E880",
          "size": [
           1441.2079876736602,
           1308.9869286016374,
           1860.1444791718968,
           1941.4703511023704,
           1280.760005718534,
           1481.335707890782,
           1399.2482622697744,
           1532.1396820997556,
           1572.796382242526,
           1676.2991923179136,
           1248.3591747108092,
           1386.9831486877704,
           1479.8987112970165,
           1973.973786892995,
           1617.2463882415386,
           1640.9938203452489,
           1374.2727132998698,
           1143.3248995338315,
           1252.626003116099,
           1563.334590140539,
           1114.0373829937091,
           1204.7335360702657
          ],
          "sizemode": "area",
          "sizeref": 39.47138134029294,
          "symbol": "circle"
         },
         "mode": "markers+text",
         "name": "NNS",
         "orientation": "v",
         "showlegend": true,
         "text": [
          "one",
          "together",
          "believe",
          "vote",
          "hard",
          "campaign",
          "women",
          "everybody",
          "united",
          "inaudible",
          "done",
          "ever",
          "mean",
          "health",
          "laughter",
          "plan",
          "debt",
          "high",
          "businesses",
          "man",
          "start",
          "place"
         ],
         "textfont": {
          "color": "black",
          "family": "Arial",
          "size": 14
         },
         "textposition": "top center",
         "type": "scatter",
         "x": [
          -0.0030237287282943726,
          -11.11474609375,
          -8.357219696044922,
          -10.369169235229492,
          1.8367253541946411,
          2.352362632751465,
          1.0698751211166382,
          -7.75380802154541,
          1.1645756959915161,
          8.395276069641113,
          0.9381499290466309,
          5.512105464935303,
          6.041874885559082,
          -4.063180446624756,
          7.009183406829834,
          1.718876838684082,
          -6.089322090148926,
          -2.6562910079956055,
          1.1496297121047974,
          0.12288951873779297,
          -2.7410366535186768,
          0.49266955256462097
         ],
         "xaxis": "x",
         "y": [
          9.900285720825195,
          -4.072744369506836,
          -2.7191250324249268,
          -2.1955604553222656,
          -3.3701703548431396,
          -0.020532608032226562,
          -0.6134026646614075,
          0.2506406903266907,
          3.520338296890259,
          4.922662258148193,
          -2.9033942222595215,
          2.015181064605713,
          -0.3365737497806549,
          -3.7459769248962402,
          -1.4798418283462524,
          -3.8366446495056152,
          -0.7743527293205261,
          -0.6112550497055054,
          -4.218753337860107,
          2.5319435596466064,
          1.0052090883255005,
          -4.994342803955078
         ],
         "yaxis": "y"
        },
        {
         "hovertemplate": "<b>%{hovertext}</b><br><br>pos_max=VBN<br>x=%{x}<br>y=%{y}<br>tfidf_sum_speech_max=%{marker.size}<br>term_str=%{text}<extra></extra>",
         "hovertext": [
          "im",
          "really",
          "time",
          "everything",
          "last",
          "put",
          "hope",
          "nuclear",
          "worked",
          "different",
          "four"
         ],
         "legendgroup": "VBN",
         "marker": {
          "color": "#FF97FF",
          "size": [
           3900.943197794218,
           1864.3434455960332,
           1333.8992883961384,
           992.8138525208082,
           1578.8379031812206,
           1324.8616214591143,
           1217.266885272588,
           1731.0711324988545,
           911.2138255741388,
           1225.7349624716037,
           1399.4220586775305
          ],
          "sizemode": "area",
          "sizeref": 39.47138134029294,
          "symbol": "circle"
         },
         "mode": "markers+text",
         "name": "VBN",
         "orientation": "v",
         "showlegend": true,
         "text": [
          "im",
          "really",
          "time",
          "everything",
          "last",
          "put",
          "hope",
          "nuclear",
          "worked",
          "different",
          "four"
         ],
         "textfont": {
          "color": "black",
          "family": "Arial",
          "size": 14
         },
         "textposition": "top center",
         "type": "scatter",
         "x": [
          8.091140747070312,
          7.1387457847595215,
          3.7073841094970703,
          -5.819066524505615,
          4.510397434234619,
          -2.874119997024536,
          -1.6536160707473755,
          -0.8080101609230042,
          1.0810970067977905,
          -0.033215586096048355,
          5.34832763671875
         ],
         "xaxis": "x",
         "y": [
          7.240940570831299,
          -3.7823100090026855,
          -0.6874009370803833,
          -2.6298763751983643,
          -1.0265841484069824,
          -6.551217555999756,
          3.889852523803711,
          2.6603548526763916,
          -0.08549179136753082,
          1.2692128419876099,
          -0.1273583471775055
         ],
         "yaxis": "y"
        },
        {
         "hovertemplate": "<b>%{hovertext}</b><br><br>pos_max=SYM<br>x=%{x}<br>y=%{y}<br>tfidf_sum_speech_max=%{marker.size}<br>term_str=%{text}<extra></extra>",
         "hovertext": [
          "help"
         ],
         "legendgroup": "SYM",
         "marker": {
          "color": "#FECB52",
          "size": [
           1904.5054864340775
          ],
          "sizemode": "area",
          "sizeref": 39.47138134029294,
          "symbol": "circle"
         },
         "mode": "markers+text",
         "name": "SYM",
         "orientation": "v",
         "showlegend": true,
         "text": [
          "help"
         ],
         "textfont": {
          "color": "black",
          "family": "Arial",
          "size": 14
         },
         "textposition": "top center",
         "type": "scatter",
         "x": [
          -10.541821479797363
         ],
         "xaxis": "x",
         "y": [
          -4.186384677886963
         ],
         "yaxis": "y"
        },
        {
         "hovertemplate": "<b>%{hovertext}</b><br><br>pos_max=VBD<br>x=%{x}<br>y=%{y}<br>tfidf_sum_speech_max=%{marker.size}<br>term_str=%{text}<extra></extra>",
         "hovertext": [
          "good",
          "thing",
          "heres"
         ],
         "legendgroup": "VBD",
         "marker": {
          "color": "#636efa",
          "size": [
           1373.5502944283562,
           1556.3509006517097,
           835.8888552501262
          ],
          "sizemode": "area",
          "sizeref": 39.47138134029294,
          "symbol": "circle"
         },
         "mode": "markers+text",
         "name": "VBD",
         "orientation": "v",
         "showlegend": true,
         "text": [
          "good",
          "thing",
          "heres"
         ],
         "textfont": {
          "color": "black",
          "family": "Arial",
          "size": 14
         },
         "textposition": "top center",
         "type": "scatter",
         "x": [
          -7.00054931640625,
          6.556613922119141,
          -0.5024659633636475
         ],
         "xaxis": "x",
         "y": [
          -6.515422344207764,
          1.6398779153823853,
          4.06351375579834
         ],
         "yaxis": "y"
        },
        {
         "hovertemplate": "<b>%{hovertext}</b><br><br>pos_max=JJR<br>x=%{x}<br>y=%{y}<br>tfidf_sum_speech_max=%{marker.size}<br>term_str=%{text}<extra></extra>",
         "hovertext": [
          "thank"
         ],
         "legendgroup": "JJR",
         "marker": {
          "color": "#EF553B",
          "size": [
           2120.911702140481
          ],
          "sizemode": "area",
          "sizeref": 39.47138134029294,
          "symbol": "circle"
         },
         "mode": "markers+text",
         "name": "JJR",
         "orientation": "v",
         "showlegend": true,
         "text": [
          "thank"
         ],
         "textfont": {
          "color": "black",
          "family": "Arial",
          "size": 14
         },
         "textposition": "top center",
         "type": "scatter",
         "x": [
          11.539166450500488
         ],
         "xaxis": "x",
         "y": [
          8.766485214233398
         ],
         "yaxis": "y"
        },
        {
         "hovertemplate": "<b>%{hovertext}</b><br><br>pos_max=RB<br>x=%{x}<br>y=%{y}<br>tfidf_sum_speech_max=%{marker.size}<br>term_str=%{text}<extra></extra>",
         "hovertext": [
          "could",
          "actually",
          "youve",
          "trumps",
          "create"
         ],
         "legendgroup": "RB",
         "marker": {
          "color": "#00cc96",
          "size": [
           1391.7832468079098,
           983.6519743471551,
           1189.0294834462816,
           356.96951021726693,
           913.1995634766104
          ],
          "sizemode": "area",
          "sizeref": 39.47138134029294,
          "symbol": "circle"
         },
         "mode": "markers+text",
         "name": "RB",
         "orientation": "v",
         "showlegend": true,
         "text": [
          "could",
          "actually",
          "youve",
          "trumps",
          "create"
         ],
         "textfont": {
          "color": "black",
          "family": "Arial",
          "size": 14
         },
         "textposition": "top center",
         "type": "scatter",
         "x": [
          3.1143271923065186,
          6.621352195739746,
          6.237543106079102,
          9.029435157775879,
          -5.922396183013916
         ],
         "xaxis": "x",
         "y": [
          -4.388176918029785,
          1.089927077293396,
          2.9367380142211914,
          1.9414775371551514,
          -5.574260711669922
         ],
         "yaxis": "y"
        },
        {
         "hovertemplate": "<b>%{hovertext}</b><br><br>pos_max=PRP$<br>x=%{x}<br>y=%{y}<br>tfidf_sum_speech_max=%{marker.size}<br>term_str=%{text}<extra></extra>",
         "hovertext": [
          "important"
         ],
         "legendgroup": "PRP$",
         "marker": {
          "color": "#ab63fa",
          "size": [
           1287.8477133855724
          ],
          "sizemode": "area",
          "sizeref": 39.47138134029294,
          "symbol": "circle"
         },
         "mode": "markers+text",
         "name": "PRP$",
         "orientation": "v",
         "showlegend": true,
         "text": [
          "important"
         ],
         "textfont": {
          "color": "black",
          "family": "Arial",
          "size": 14
         },
         "textposition": "top center",
         "type": "scatter",
         "x": [
          4.3043904304504395
         ],
         "xaxis": "x",
         "y": [
          2.8268556594848633
         ],
         "yaxis": "y"
        },
        {
         "hovertemplate": "<b>%{hovertext}</b><br><br>pos_max=CD<br>x=%{x}<br>y=%{y}<br>tfidf_sum_speech_max=%{marker.size}<br>term_str=%{text}<extra></extra>",
         "hovertext": [
          "able"
         ],
         "legendgroup": "CD",
         "marker": {
          "color": "#FFA15A",
          "size": [
           1024.3708230886489
          ],
          "sizemode": "area",
          "sizeref": 39.47138134029294,
          "symbol": "circle"
         },
         "mode": "markers+text",
         "name": "CD",
         "orientation": "v",
         "showlegend": true,
         "text": [
          "able"
         ],
         "textfont": {
          "color": "black",
          "family": "Arial",
          "size": 14
         },
         "textposition": "top center",
         "type": "scatter",
         "x": [
          -6.074649333953857
         ],
         "xaxis": "x",
         "y": [
          -1.3608896732330322
         ],
         "yaxis": "y"
        },
        {
         "hovertemplate": "<b>%{hovertext}</b><br><br>pos_max=NNPS<br>x=%{x}<br>y=%{y}<br>tfidf_sum_speech_max=%{marker.size}<br>term_str=%{text}<extra></extra>",
         "hovertext": [
          "someone"
         ],
         "legendgroup": "NNPS",
         "marker": {
          "color": "#19d3f3",
          "size": [
           599.6689167643877
          ],
          "sizemode": "area",
          "sizeref": 39.47138134029294,
          "symbol": "circle"
         },
         "mode": "markers+text",
         "name": "NNPS",
         "orientation": "v",
         "showlegend": true,
         "text": [
          "someone"
         ],
         "textfont": {
          "color": "black",
          "family": "Arial",
          "size": 14
         },
         "textposition": "top center",
         "type": "scatter",
         "x": [
          0.5700802803039551
         ],
         "xaxis": "x",
         "y": [
          -1.5592490434646606
         ],
         "yaxis": "y"
        }
       ],
       "layout": {
        "autosize": true,
        "legend": {
         "itemsizing": "constant",
         "title": {
          "text": "pos_max"
         },
         "tracegroupgap": 0
        },
        "margin": {
         "t": 60
        },
        "template": {
         "data": {
          "bar": [
           {
            "error_x": {
             "color": "#2a3f5f"
            },
            "error_y": {
             "color": "#2a3f5f"
            },
            "marker": {
             "line": {
              "color": "#E5ECF6",
              "width": 0.5
             }
            },
            "type": "bar"
           }
          ],
          "barpolar": [
           {
            "marker": {
             "line": {
              "color": "#E5ECF6",
              "width": 0.5
             }
            },
            "type": "barpolar"
           }
          ],
          "carpet": [
           {
            "aaxis": {
             "endlinecolor": "#2a3f5f",
             "gridcolor": "white",
             "linecolor": "white",
             "minorgridcolor": "white",
             "startlinecolor": "#2a3f5f"
            },
            "baxis": {
             "endlinecolor": "#2a3f5f",
             "gridcolor": "white",
             "linecolor": "white",
             "minorgridcolor": "white",
             "startlinecolor": "#2a3f5f"
            },
            "type": "carpet"
           }
          ],
          "choropleth": [
           {
            "colorbar": {
             "outlinewidth": 0,
             "ticks": ""
            },
            "type": "choropleth"
           }
          ],
          "contour": [
           {
            "colorbar": {
             "outlinewidth": 0,
             "ticks": ""
            },
            "colorscale": [
             [
              0,
              "#0d0887"
             ],
             [
              0.1111111111111111,
              "#46039f"
             ],
             [
              0.2222222222222222,
              "#7201a8"
             ],
             [
              0.3333333333333333,
              "#9c179e"
             ],
             [
              0.4444444444444444,
              "#bd3786"
             ],
             [
              0.5555555555555556,
              "#d8576b"
             ],
             [
              0.6666666666666666,
              "#ed7953"
             ],
             [
              0.7777777777777778,
              "#fb9f3a"
             ],
             [
              0.8888888888888888,
              "#fdca26"
             ],
             [
              1,
              "#f0f921"
             ]
            ],
            "type": "contour"
           }
          ],
          "contourcarpet": [
           {
            "colorbar": {
             "outlinewidth": 0,
             "ticks": ""
            },
            "type": "contourcarpet"
           }
          ],
          "heatmap": [
           {
            "colorbar": {
             "outlinewidth": 0,
             "ticks": ""
            },
            "colorscale": [
             [
              0,
              "#0d0887"
             ],
             [
              0.1111111111111111,
              "#46039f"
             ],
             [
              0.2222222222222222,
              "#7201a8"
             ],
             [
              0.3333333333333333,
              "#9c179e"
             ],
             [
              0.4444444444444444,
              "#bd3786"
             ],
             [
              0.5555555555555556,
              "#d8576b"
             ],
             [
              0.6666666666666666,
              "#ed7953"
             ],
             [
              0.7777777777777778,
              "#fb9f3a"
             ],
             [
              0.8888888888888888,
              "#fdca26"
             ],
             [
              1,
              "#f0f921"
             ]
            ],
            "type": "heatmap"
           }
          ],
          "heatmapgl": [
           {
            "colorbar": {
             "outlinewidth": 0,
             "ticks": ""
            },
            "colorscale": [
             [
              0,
              "#0d0887"
             ],
             [
              0.1111111111111111,
              "#46039f"
             ],
             [
              0.2222222222222222,
              "#7201a8"
             ],
             [
              0.3333333333333333,
              "#9c179e"
             ],
             [
              0.4444444444444444,
              "#bd3786"
             ],
             [
              0.5555555555555556,
              "#d8576b"
             ],
             [
              0.6666666666666666,
              "#ed7953"
             ],
             [
              0.7777777777777778,
              "#fb9f3a"
             ],
             [
              0.8888888888888888,
              "#fdca26"
             ],
             [
              1,
              "#f0f921"
             ]
            ],
            "type": "heatmapgl"
           }
          ],
          "histogram": [
           {
            "marker": {
             "colorbar": {
              "outlinewidth": 0,
              "ticks": ""
             }
            },
            "type": "histogram"
           }
          ],
          "histogram2d": [
           {
            "colorbar": {
             "outlinewidth": 0,
             "ticks": ""
            },
            "colorscale": [
             [
              0,
              "#0d0887"
             ],
             [
              0.1111111111111111,
              "#46039f"
             ],
             [
              0.2222222222222222,
              "#7201a8"
             ],
             [
              0.3333333333333333,
              "#9c179e"
             ],
             [
              0.4444444444444444,
              "#bd3786"
             ],
             [
              0.5555555555555556,
              "#d8576b"
             ],
             [
              0.6666666666666666,
              "#ed7953"
             ],
             [
              0.7777777777777778,
              "#fb9f3a"
             ],
             [
              0.8888888888888888,
              "#fdca26"
             ],
             [
              1,
              "#f0f921"
             ]
            ],
            "type": "histogram2d"
           }
          ],
          "histogram2dcontour": [
           {
            "colorbar": {
             "outlinewidth": 0,
             "ticks": ""
            },
            "colorscale": [
             [
              0,
              "#0d0887"
             ],
             [
              0.1111111111111111,
              "#46039f"
             ],
             [
              0.2222222222222222,
              "#7201a8"
             ],
             [
              0.3333333333333333,
              "#9c179e"
             ],
             [
              0.4444444444444444,
              "#bd3786"
             ],
             [
              0.5555555555555556,
              "#d8576b"
             ],
             [
              0.6666666666666666,
              "#ed7953"
             ],
             [
              0.7777777777777778,
              "#fb9f3a"
             ],
             [
              0.8888888888888888,
              "#fdca26"
             ],
             [
              1,
              "#f0f921"
             ]
            ],
            "type": "histogram2dcontour"
           }
          ],
          "mesh3d": [
           {
            "colorbar": {
             "outlinewidth": 0,
             "ticks": ""
            },
            "type": "mesh3d"
           }
          ],
          "parcoords": [
           {
            "line": {
             "colorbar": {
              "outlinewidth": 0,
              "ticks": ""
             }
            },
            "type": "parcoords"
           }
          ],
          "pie": [
           {
            "automargin": true,
            "type": "pie"
           }
          ],
          "scatter": [
           {
            "marker": {
             "colorbar": {
              "outlinewidth": 0,
              "ticks": ""
             }
            },
            "type": "scatter"
           }
          ],
          "scatter3d": [
           {
            "line": {
             "colorbar": {
              "outlinewidth": 0,
              "ticks": ""
             }
            },
            "marker": {
             "colorbar": {
              "outlinewidth": 0,
              "ticks": ""
             }
            },
            "type": "scatter3d"
           }
          ],
          "scattercarpet": [
           {
            "marker": {
             "colorbar": {
              "outlinewidth": 0,
              "ticks": ""
             }
            },
            "type": "scattercarpet"
           }
          ],
          "scattergeo": [
           {
            "marker": {
             "colorbar": {
              "outlinewidth": 0,
              "ticks": ""
             }
            },
            "type": "scattergeo"
           }
          ],
          "scattergl": [
           {
            "marker": {
             "colorbar": {
              "outlinewidth": 0,
              "ticks": ""
             }
            },
            "type": "scattergl"
           }
          ],
          "scattermapbox": [
           {
            "marker": {
             "colorbar": {
              "outlinewidth": 0,
              "ticks": ""
             }
            },
            "type": "scattermapbox"
           }
          ],
          "scatterpolar": [
           {
            "marker": {
             "colorbar": {
              "outlinewidth": 0,
              "ticks": ""
             }
            },
            "type": "scatterpolar"
           }
          ],
          "scatterpolargl": [
           {
            "marker": {
             "colorbar": {
              "outlinewidth": 0,
              "ticks": ""
             }
            },
            "type": "scatterpolargl"
           }
          ],
          "scatterternary": [
           {
            "marker": {
             "colorbar": {
              "outlinewidth": 0,
              "ticks": ""
             }
            },
            "type": "scatterternary"
           }
          ],
          "surface": [
           {
            "colorbar": {
             "outlinewidth": 0,
             "ticks": ""
            },
            "colorscale": [
             [
              0,
              "#0d0887"
             ],
             [
              0.1111111111111111,
              "#46039f"
             ],
             [
              0.2222222222222222,
              "#7201a8"
             ],
             [
              0.3333333333333333,
              "#9c179e"
             ],
             [
              0.4444444444444444,
              "#bd3786"
             ],
             [
              0.5555555555555556,
              "#d8576b"
             ],
             [
              0.6666666666666666,
              "#ed7953"
             ],
             [
              0.7777777777777778,
              "#fb9f3a"
             ],
             [
              0.8888888888888888,
              "#fdca26"
             ],
             [
              1,
              "#f0f921"
             ]
            ],
            "type": "surface"
           }
          ],
          "table": [
           {
            "cells": {
             "fill": {
              "color": "#EBF0F8"
             },
             "line": {
              "color": "white"
             }
            },
            "header": {
             "fill": {
              "color": "#C8D4E3"
             },
             "line": {
              "color": "white"
             }
            },
            "type": "table"
           }
          ]
         },
         "layout": {
          "annotationdefaults": {
           "arrowcolor": "#2a3f5f",
           "arrowhead": 0,
           "arrowwidth": 1
          },
          "autotypenumbers": "strict",
          "coloraxis": {
           "colorbar": {
            "outlinewidth": 0,
            "ticks": ""
           }
          },
          "colorscale": {
           "diverging": [
            [
             0,
             "#8e0152"
            ],
            [
             0.1,
             "#c51b7d"
            ],
            [
             0.2,
             "#de77ae"
            ],
            [
             0.3,
             "#f1b6da"
            ],
            [
             0.4,
             "#fde0ef"
            ],
            [
             0.5,
             "#f7f7f7"
            ],
            [
             0.6,
             "#e6f5d0"
            ],
            [
             0.7,
             "#b8e186"
            ],
            [
             0.8,
             "#7fbc41"
            ],
            [
             0.9,
             "#4d9221"
            ],
            [
             1,
             "#276419"
            ]
           ],
           "sequential": [
            [
             0,
             "#0d0887"
            ],
            [
             0.1111111111111111,
             "#46039f"
            ],
            [
             0.2222222222222222,
             "#7201a8"
            ],
            [
             0.3333333333333333,
             "#9c179e"
            ],
            [
             0.4444444444444444,
             "#bd3786"
            ],
            [
             0.5555555555555556,
             "#d8576b"
            ],
            [
             0.6666666666666666,
             "#ed7953"
            ],
            [
             0.7777777777777778,
             "#fb9f3a"
            ],
            [
             0.8888888888888888,
             "#fdca26"
            ],
            [
             1,
             "#f0f921"
            ]
           ],
           "sequentialminus": [
            [
             0,
             "#0d0887"
            ],
            [
             0.1111111111111111,
             "#46039f"
            ],
            [
             0.2222222222222222,
             "#7201a8"
            ],
            [
             0.3333333333333333,
             "#9c179e"
            ],
            [
             0.4444444444444444,
             "#bd3786"
            ],
            [
             0.5555555555555556,
             "#d8576b"
            ],
            [
             0.6666666666666666,
             "#ed7953"
            ],
            [
             0.7777777777777778,
             "#fb9f3a"
            ],
            [
             0.8888888888888888,
             "#fdca26"
            ],
            [
             1,
             "#f0f921"
            ]
           ]
          },
          "colorway": [
           "#636efa",
           "#EF553B",
           "#00cc96",
           "#ab63fa",
           "#FFA15A",
           "#19d3f3",
           "#FF6692",
           "#B6E880",
           "#FF97FF",
           "#FECB52"
          ],
          "font": {
           "color": "#2a3f5f"
          },
          "geo": {
           "bgcolor": "white",
           "lakecolor": "white",
           "landcolor": "#E5ECF6",
           "showlakes": true,
           "showland": true,
           "subunitcolor": "white"
          },
          "hoverlabel": {
           "align": "left"
          },
          "hovermode": "closest",
          "mapbox": {
           "style": "light"
          },
          "paper_bgcolor": "white",
          "plot_bgcolor": "#E5ECF6",
          "polar": {
           "angularaxis": {
            "gridcolor": "white",
            "linecolor": "white",
            "ticks": ""
           },
           "bgcolor": "#E5ECF6",
           "radialaxis": {
            "gridcolor": "white",
            "linecolor": "white",
            "ticks": ""
           }
          },
          "scene": {
           "xaxis": {
            "backgroundcolor": "#E5ECF6",
            "gridcolor": "white",
            "gridwidth": 2,
            "linecolor": "white",
            "showbackground": true,
            "ticks": "",
            "zerolinecolor": "white"
           },
           "yaxis": {
            "backgroundcolor": "#E5ECF6",
            "gridcolor": "white",
            "gridwidth": 2,
            "linecolor": "white",
            "showbackground": true,
            "ticks": "",
            "zerolinecolor": "white"
           },
           "zaxis": {
            "backgroundcolor": "#E5ECF6",
            "gridcolor": "white",
            "gridwidth": 2,
            "linecolor": "white",
            "showbackground": true,
            "ticks": "",
            "zerolinecolor": "white"
           }
          },
          "shapedefaults": {
           "line": {
            "color": "#2a3f5f"
           }
          },
          "ternary": {
           "aaxis": {
            "gridcolor": "white",
            "linecolor": "white",
            "ticks": ""
           },
           "baxis": {
            "gridcolor": "white",
            "linecolor": "white",
            "ticks": ""
           },
           "bgcolor": "#E5ECF6",
           "caxis": {
            "gridcolor": "white",
            "linecolor": "white",
            "ticks": ""
           }
          },
          "title": {
           "x": 0.05
          },
          "xaxis": {
           "automargin": true,
           "gridcolor": "white",
           "linecolor": "white",
           "ticks": "",
           "title": {
            "standoff": 15
           },
           "zerolinecolor": "white",
           "zerolinewidth": 2
          },
          "yaxis": {
           "automargin": true,
           "gridcolor": "white",
           "linecolor": "white",
           "ticks": "",
           "title": {
            "standoff": 15
           },
           "zerolinecolor": "white",
           "zerolinewidth": 2
          }
         }
        },
        "xaxis": {
         "anchor": "y",
         "autorange": true,
         "domain": [
          0,
          1
         ],
         "range": [
          -13.799431393609634,
          14.341435036213793
         ],
         "title": {
          "text": "x"
         },
         "type": "linear"
        },
        "yaxis": {
         "anchor": "x",
         "autorange": true,
         "domain": [
          0,
          1
         ],
         "range": [
          -10.063196644657571,
          13.429785763484006
         ],
         "title": {
          "text": "y"
         },
         "type": "linear"
        }
       }
      },
      "image/png": "[encoded data removed]",
      "text/html": [
       "<div>                            <div id=\"afe155ab-8c92-42c0-bbc6-e7b5ca7ccc7e\" class=\"plotly-graph-div\" style=\"height:1000px; width:100%;\"></div>            <script type=\"text/javascript\">                require([\"plotly\"], function(Plotly) {                    window.PLOTLYENV=window.PLOTLYENV || {};                                    if (document.getElementById(\"afe155ab-8c92-42c0-bbc6-e7b5ca7ccc7e\")) {                    Plotly.newPlot(                        \"afe155ab-8c92-42c0-bbc6-e7b5ca7ccc7e\",                        [{\"hovertemplate\": \"<b>%{hovertext}</b><br><br>pos_max=NNP<br>x=%{x}<br>y=%{y}<br>tfidf_sum_speech_max=%{marker.size}<br>term_str=%{text}<extra></extra>\", \"hovertext\": [\"applause\", \"america\", \"well\", \"say\", \"like\", \"need\", \"lot\", \"pay\", \"families\", \"also\", \"family\", \"look\", \"care\", \"audience\", \"made\", \"best\", \"lives\", \"national\", \"real\", \"love\", \"stronger\", \"ask\", \"question\", \"taxes\", \"long\", \"getting\", \"single\", \"millions\", \"next\"], \"legendgroup\": \"NNP\", \"marker\": {\"color\": \"#636efa\", \"size\": [15788.552536117177, 2479.719447093141, 1532.6441562065463, 2160.5547423255284, 2134.510364263213, 1730.6831170688993, 2263.3904473722323, 1487.388364460015, 1518.5391244705909, 1299.8780277016858, 1314.8753712618736, 1968.5005933250768, 1972.95600843343, 2038.941008107331, 1360.998051322742, 1252.588733484536, 1143.1332200312556, 1665.362192052686, 1024.492936917431, 1375.1551091584415, 745.7387140786493, 1285.704213857268, 2148.624734521876, 1529.8140348466184, 1052.372902348262, 1063.6631030979547, 889.1676317630277, 1244.2317373945714, 1258.214598308165], \"sizemode\": \"area\", \"sizeref\": 39.47138134029294, \"symbol\": \"circle\"}, \"mode\": \"markers+text\", \"name\": \"NNP\", \"orientation\": \"v\", \"showlegend\": true, \"text\": [\"applause\", \"america\", \"well\", \"say\", \"like\", \"need\", \"lot\", \"pay\", \"families\", \"also\", \"family\", \"look\", \"care\", \"audience\", \"made\", \"best\", \"lives\", \"national\", \"real\", \"love\", \"stronger\", \"ask\", \"question\", \"taxes\", \"long\", \"getting\", \"single\", \"millions\", \"next\"], \"textfont\": {\"color\": \"black\", \"family\": \"Arial\", \"size\": 14}, \"textposition\": \"top center\", \"type\": \"scatter\", \"x\": [9.60909652709961, -2.0295770168304443, 11.43624496459961, 10.516931533813477, 4.045894622802734, -10.730010986328125, 5.796303749084473, -5.725799083709717, -5.214573860168457, 3.603658437728882, 1.8528856039047241, 8.476691246032715, -0.09606853872537613, 11.53633975982666, 1.9337456226348877, -3.02553129196167, -4.0227580070495605, -2.197237730026245, -0.054395657032728195, 6.715750217437744, -5.508888244628906, 3.0762953758239746, 8.783523559570312, -1.0358762741088867, -1.3281917572021484, -0.17707516252994537, -1.4823888540267944, -3.7610015869140625, 6.8266215324401855], \"xaxis\": \"x\", \"y\": [6.8157243728637695, -5.51979923248291, 4.876891613006592, 5.390942573547363, -3.8899807929992676, -4.327472686767578, -7.165625095367432, -6.109393119812012, -8.754594802856445, 4.630965709686279, -4.948533058166504, 1.2208056449890137, -4.3123602867126465, 8.809614181518555, -0.6662664413452148, -0.0920809656381607, -3.35176682472229, 1.8021557331085205, -2.0103843212127686, 6.597262859344482, 0.10897776484489441, 4.421965599060059, 4.717547416687012, 2.5113303661346436, 1.8278796672821045, -3.072242498397827, -3.9824721813201904, 2.1995773315429688, 6.521503448486328], \"yaxis\": \"y\"}, {\"hovertemplate\": \"<b>%{hovertext}</b><br><br>pos_max=NN<br>x=%{x}<br>y=%{y}<br>tfidf_sum_speech_max=%{marker.size}<br>term_str=%{text}<extra></extra>\", \"hovertext\": [\"know\", \"want\", \"get\", \"make\", \"thats\", \"every\", \"right\", \"hillary\", \"tell\", \"new\", \"weve\", \"see\", \"even\", \"sure\", \"never\", \"much\", \"hes\", \"cant\", \"college\", \"something\", \"small\", \"state\", \"things\", \"tax\", \"kids\", \"give\", \"big\", \"better\", \"let\", \"business\", \"making\", \"friends\", \"says\", \"today\", \"talk\", \"million\", \"life\", \"school\", \"build\", \"theyre\", \"enough\", \"bring\", \"theres\", \"else\", \"around\", \"service\", \"proud\"], \"legendgroup\": \"NN\", \"marker\": {\"color\": \"#EF553B\", \"size\": [3367.726804813787, 2761.350163770051, 3653.403333157866, 1402.9109985671746, 4786.70760820988, 1475.2319569646068, 2014.7865020736288, 4796.990450189495, 1882.471509542292, 1888.57424113658, 2715.5664036558983, 1595.996602922153, 1372.0513757995188, 1118.4811079983228, 1539.0200993867372, 1513.019088539011, 1858.5918982796911, 2029.872847224372, 1151.3313778406089, 1280.7384314966423, 1140.0734266477143, 1914.8842251517292, 1518.4253825990422, 2697.9593670571944, 944.3103767348402, 1097.4420237509296, 1723.8717809711388, 1414.6254642276886, 1667.4401982913, 2110.2446074053064, 1111.056664802979, 910.2280843041186, 963.3049414232064, 1886.7276334547869, 1243.8791419007289, 1741.397392977391, 1249.6776375893587, 1349.4231701594672, 1492.3061353770922, 3827.64751587733, 946.1642745964482, 1087.8697092971604, 1442.0891192793954, 845.2340925143957, 1134.9458127299288, 2120.841574133997, 936.2603215573964], \"sizemode\": \"area\", \"sizeref\": 39.47138134029294, \"symbol\": \"circle\"}, \"mode\": \"markers+text\", \"name\": \"NN\", \"orientation\": \"v\", \"showlegend\": true, \"text\": [\"know\", \"want\", \"get\", \"make\", \"thats\", \"every\", \"right\", \"hillary\", \"tell\", \"new\", \"weve\", \"see\", \"even\", \"sure\", \"never\", \"much\", \"hes\", \"cant\", \"college\", \"something\", \"small\", \"state\", \"things\", \"tax\", \"kids\", \"give\", \"big\", \"better\", \"let\", \"business\", \"making\", \"friends\", \"says\", \"today\", \"talk\", \"million\", \"life\", \"school\", \"build\", \"theyre\", \"enough\", \"bring\", \"theres\", \"else\", \"around\", \"service\", \"proud\"], \"textfont\": {\"color\": \"black\", \"family\": \"Arial\", \"size\": 14}, \"textposition\": \"top center\", \"type\": \"scatter\", \"x\": [11.793429374694824, -11.382465362548828, -10.612541198730469, -11.340668678283691, 8.642264366149902, -5.0224175453186035, 9.751829147338867, 11.593670845031738, 11.57859992980957, -4.654238224029541, -7.796412467956543, 7.74146842956543, 3.409954786300659, -8.666608810424805, 2.9591269493103027, 9.814384460449219, 1.0461838245391846, 2.6694529056549072, -6.550777912139893, 8.84040641784668, 2.5326132774353027, 0.12445490807294846, 3.9373464584350586, -0.15548738837242126, -3.662550687789917, -1.5499341487884521, 2.133613348007202, -5.769214630126953, 8.03367805480957, 1.9235442876815796, -2.4535768032073975, 4.6888885498046875, 7.0308122634887695, 4.56788444519043, 4.7938432693481445, 1.675719141960144, -0.47658661007881165, 0.4739009141921997, -5.855589866638184, -1.5510728359222412, -2.188899278640747, -7.28352165222168, 8.132598876953125, 7.287032127380371, 0.44689494371414185, -1.0724960565567017, -1.7408638000488281], \"xaxis\": \"x\", \"y\": [6.018106937408447, -1.4210835695266724, -4.9989118576049805, -4.783196926116943, -0.3959698975086212, -7.9940338134765625, 4.171535491943359, 9.415995597839355, 6.398741722106934, 3.676154613494873, 0.9288135766983032, 4.906965255737305, -5.955883979797363, -3.686521291732788, -5.627024173736572, 6.178691387176514, 8.968040466308594, 1.8505604267120361, -1.0342084169387817, 2.702414035797119, -6.266242027282715, 2.1563990116119385, -4.0993170738220215, 7.22731876373291, -4.989398002624512, -0.8772549629211426, -1.1788735389709473, -5.002840518951416, 1.9964905977249146, -2.364227294921875, -4.02593469619751, 3.7276909351348877, -1.9533823728561401, -0.2371916025876999, 2.7573227882385254, -7.381432056427002, 0.9890756011009216, -2.7570507526397705, -4.541154861450195, -2.8862662315368652, -0.6435443758964539, -3.6270368099212646, 1.2446905374526978, 1.9012099504470825, -4.471279621124268, -0.029260607436299324, 3.285287618637085], \"yaxis\": \"y\"}, {\"hovertemplate\": \"<b>%{hovertext}</b><br><br>pos_max=JJ<br>x=%{x}<br>y=%{y}<br>tfidf_sum_speech_max=%{marker.size}<br>term_str=%{text}<extra></extra>\", \"hovertext\": [\"people\", \"clinton\", \"work\", \"country\", \"dont\", \"would\", \"back\", \"great\", \"americans\", \"ive\", \"election\", \"working\", \"economy\", \"years\", \"world\", \"young\", \"kind\", \"states\", \"future\", \"doesnt\", \"job\", \"year\", \"across\", \"part\", \"still\", \"yes\", \"person\", \"workers\", \"ahead\", \"military\", \"maybe\", \"chance\"], \"legendgroup\": \"JJ\", \"marker\": {\"color\": \"#00cc96\", \"size\": [2320.333400774893, 4419.575016572235, 2132.0015192622645, 1702.0495460738966, 5090.812773350015, 2072.9789584221453, 2067.1600861927614, 1751.9714859542462, 2115.5116225635525, 2307.492512660925, 1476.6062328163205, 1454.2856793496992, 1806.2189033183972, 2082.212924678249, 2401.8939658282666, 1304.978040303039, 1172.7040817949162, 1530.184350930776, 1407.024891546144, 1397.7454019776458, 1711.4990695866422, 2355.924546914559, 1065.639219877108, 1153.2811297684657, 1150.7967934720432, 1302.920668651905, 1184.7964706441371, 1418.2098632843738, 994.1462920298126, 1848.12967417867, 909.1930196062956, 1057.180682257872], \"sizemode\": \"area\", \"sizeref\": 39.47138134029294, \"symbol\": \"circle\"}, \"mode\": \"markers+text\", \"name\": \"JJ\", \"orientation\": \"v\", \"showlegend\": true, \"text\": [\"people\", \"clinton\", \"work\", \"country\", \"dont\", \"would\", \"back\", \"great\", \"americans\", \"ive\", \"election\", \"working\", \"economy\", \"years\", \"world\", \"young\", \"kind\", \"states\", \"future\", \"doesnt\", \"job\", \"year\", \"across\", \"part\", \"still\", \"yes\", \"person\", \"workers\", \"ahead\", \"military\", \"maybe\", \"chance\"], \"textfont\": {\"color\": \"black\", \"family\": \"Arial\", \"size\": 14}, \"textposition\": \"top center\", \"type\": \"scatter\", \"x\": [-6.527029991149902, 11.548123359680176, -10.277726173400879, -8.438508987426758, 12.83646297454834, 1.223060131072998, -2.5489516258239746, 7.264571189880371, -4.850834846496582, 8.762243270874023, 3.3120086193084717, -5.341327667236328, -7.944962501525879, 5.182953834533691, -4.626967430114746, -3.3570055961608887, -4.557724952697754, 4.548566818237305, -7.510634899139404, 5.707300662994385, -0.43210986256599426, 2.4416403770446777, -3.1426854133605957, -3.3362460136413574, -0.6436259746551514, 9.164663314819336, 0.4080820083618164, 0.24425441026687622, -4.068643569946289, -3.7765774726867676, 0.2322983294725418, -2.9883193969726562], \"xaxis\": \"x\", \"y\": [-8.439203262329102, 8.913832664489746, -4.769921779632568, -6.234389781951904, 2.7319159507751465, 9.815177917480469, -2.6175076961517334, 5.721521377563477, -4.926410675048828, 1.0147950649261475, 2.621546983718872, -8.270257949829102, -6.1847968101501465, -1.555700421333313, 3.666591167449951, -7.634889125823975, 1.4749032258987427, 0.7608122229576111, -2.1992673873901367, -3.546961784362793, -4.044772148132324, -1.4915683269500732, -1.1005918979644775, 1.512675404548645, -2.414997100830078, 6.284306526184082, -3.2072291374206543, -5.354946613311768, 1.1217689514160156, 2.8494715690612793, 1.6612173318862915, 2.075754404067993], \"yaxis\": \"y\"}, {\"hovertemplate\": \"<b>%{hovertext}</b><br><br>pos_max=VB<br>x=%{x}<br>y=%{y}<br>tfidf_sum_speech_max=%{marker.size}<br>term_str=%{text}<extra></extra>\", \"hovertext\": [\"going\", \"president\", \"said\", \"first\", \"keep\", \"stand\", \"education\", \"home\", \"secretary\"], \"legendgroup\": \"VB\", \"marker\": {\"color\": \"#ab63fa\", \"size\": [7828.914181295416, 2790.662612995688, 2452.5580429064, 1202.8773725439771, 1331.634791139433, 1024.9043298707652, 1543.2348965731858, 1240.676675075211, 1783.1152601052845], \"sizemode\": \"area\", \"sizeref\": 39.47138134029294, \"symbol\": \"circle\"}, \"mode\": \"markers+text\", \"name\": \"VB\", \"orientation\": \"v\", \"showlegend\": true, \"text\": [\"going\", \"president\", \"said\", \"first\", \"keep\", \"stand\", \"education\", \"home\", \"secretary\"], \"textfont\": {\"color\": \"black\", \"family\": \"Arial\", \"size\": 14}, \"textposition\": \"top center\", \"type\": \"scatter\", \"x\": [-12.270946502685547, 1.4674103260040283, 2.8798680305480957, 3.7561452388763428, -7.547398090362549, -2.485201358795166, -4.722768306732178, -0.02036724053323269, 9.084966659545898], \"xaxis\": \"x\", \"y\": [-5.01149320602417, 3.862536907196045, 10.552807807922363, -1.4142043590545654, -3.632248878479004, 0.686398983001709, -4.6758832931518555, -1.4880603551864624, 5.943493843078613], \"yaxis\": \"y\"}, {\"hovertemplate\": \"<b>%{hovertext}</b><br><br>pos_max=VBZ<br>x=%{x}<br>y=%{y}<br>tfidf_sum_speech_max=%{marker.size}<br>term_str=%{text}<extra></extra>\", \"hovertext\": [\"trump\", \"two\"], \"legendgroup\": \"VBZ\", \"marker\": {\"color\": \"#FFA15A\", \"size\": [7756.258768514946, 1457.0201115505356], \"sizemode\": \"area\", \"sizeref\": 39.47138134029294, \"symbol\": \"circle\"}, \"mode\": \"markers+text\", \"name\": \"VBZ\", \"orientation\": \"v\", \"showlegend\": true, \"text\": [\"trump\", \"two\"], \"textfont\": {\"color\": \"black\", \"family\": \"Arial\", \"size\": 14}, \"textposition\": \"top center\", \"type\": \"scatter\", \"x\": [2.9091193675994873, 3.335458517074585], \"xaxis\": \"x\", \"y\": [11.952400207519531, -2.838693380355835], \"yaxis\": \"y\"}, {\"hovertemplate\": \"<b>%{hovertext}</b><br><br>pos_max=IN<br>x=%{x}<br>y=%{y}<br>tfidf_sum_speech_max=%{marker.size}<br>term_str=%{text}<extra></extra>\", \"hovertext\": [\"us\"], \"legendgroup\": \"IN\", \"marker\": {\"color\": \"#19d3f3\", \"size\": [2138.982971535428], \"sizemode\": \"area\", \"sizeref\": 39.47138134029294, \"symbol\": \"circle\"}, \"mode\": \"markers+text\", \"name\": \"IN\", \"orientation\": \"v\", \"showlegend\": true, \"text\": [\"us\"], \"textfont\": {\"color\": \"black\", \"family\": \"Arial\", \"size\": 14}, \"textposition\": \"top center\", \"type\": \"scatter\", \"x\": [4.150819301605225], \"xaxis\": \"x\", \"y\": [4.672215938568115], \"yaxis\": \"y\"}, {\"hovertemplate\": \"<b>%{hovertext}</b><br><br>pos_max=VBG<br>x=%{x}<br>y=%{y}<br>tfidf_sum_speech_max=%{marker.size}<br>term_str=%{text}<extra></extra>\", \"hovertext\": [\"think\", \"got\", \"go\", \"jobs\", \"many\", \"way\", \"day\", \"take\", \"lets\", \"come\", \"republicans\"], \"legendgroup\": \"VBG\", \"marker\": {\"color\": \"#FF6692\", \"size\": [3540.0938461750925, 3176.9687035552583, 1900.466435109011, 3768.6326493680326, 1406.6535200022715, 1594.9973308946082, 924.2996004980924, 1264.7138680154007, 1544.9742395857145, 1432.5689407963798, 1017.5149636427332], \"sizemode\": \"area\", \"sizeref\": 39.47138134029294, \"symbol\": \"circle\"}, \"mode\": \"markers+text\", \"name\": \"VBG\", \"orientation\": \"v\", \"showlegend\": true, \"text\": [\"think\", \"got\", \"go\", \"jobs\", \"many\", \"way\", \"day\", \"take\", \"lets\", \"come\", \"republicans\"], \"textfont\": {\"color\": \"black\", \"family\": \"Arial\", \"size\": 14}, \"textposition\": \"top center\", \"type\": \"scatter\", \"x\": [12.261691093444824, -7.7159810066223145, -9.476946830749512, -7.48881721496582, 3.863442897796631, 1.979655385017395, 1.1761647462844849, -5.762608528137207, 5.504367828369141, -1.8268980979919434, -2.6595184803009033], \"xaxis\": \"x\", \"y\": [0.9814399480819702, 1.5803858041763306, -0.7017346620559692, -8.265082359313965, 0.13217324018478394, -4.359434604644775, -5.72389030456543, -1.6829460859298706, 3.586190700531006, -2.291337251663208, 1.6049641370773315], \"yaxis\": \"y\"}, {\"hovertemplate\": \"<b>%{hovertext}</b><br><br>pos_max=NNS<br>x=%{x}<br>y=%{y}<br>tfidf_sum_speech_max=%{marker.size}<br>term_str=%{text}<extra></extra>\", \"hovertext\": [\"one\", \"together\", \"believe\", \"vote\", \"hard\", \"campaign\", \"women\", \"everybody\", \"united\", \"inaudible\", \"done\", \"ever\", \"mean\", \"health\", \"laughter\", \"plan\", \"debt\", \"high\", \"businesses\", \"man\", \"start\", \"place\"], \"legendgroup\": \"NNS\", \"marker\": {\"color\": \"#B6E880\", \"size\": [1441.2079876736602, 1308.9869286016374, 1860.1444791718968, 1941.4703511023704, 1280.760005718534, 1481.335707890782, 1399.2482622697744, 1532.1396820997556, 1572.796382242526, 1676.2991923179136, 1248.3591747108092, 1386.9831486877704, 1479.8987112970165, 1973.973786892995, 1617.2463882415386, 1640.9938203452489, 1374.2727132998698, 1143.3248995338315, 1252.626003116099, 1563.334590140539, 1114.0373829937091, 1204.7335360702657], \"sizemode\": \"area\", \"sizeref\": 39.47138134029294, \"symbol\": \"circle\"}, \"mode\": \"markers+text\", \"name\": \"NNS\", \"orientation\": \"v\", \"showlegend\": true, \"text\": [\"one\", \"together\", \"believe\", \"vote\", \"hard\", \"campaign\", \"women\", \"everybody\", \"united\", \"inaudible\", \"done\", \"ever\", \"mean\", \"health\", \"laughter\", \"plan\", \"debt\", \"high\", \"businesses\", \"man\", \"start\", \"place\"], \"textfont\": {\"color\": \"black\", \"family\": \"Arial\", \"size\": 14}, \"textposition\": \"top center\", \"type\": \"scatter\", \"x\": [-0.0030237287282943726, -11.11474609375, -8.357219696044922, -10.369169235229492, 1.8367253541946411, 2.352362632751465, 1.0698751211166382, -7.75380802154541, 1.1645756959915161, 8.395276069641113, 0.9381499290466309, 5.512105464935303, 6.041874885559082, -4.063180446624756, 7.009183406829834, 1.718876838684082, -6.089322090148926, -2.6562910079956055, 1.1496297121047974, 0.12288951873779297, -2.7410366535186768, 0.49266955256462097], \"xaxis\": \"x\", \"y\": [9.900285720825195, -4.072744369506836, -2.7191250324249268, -2.1955604553222656, -3.3701703548431396, -0.020532608032226562, -0.6134026646614075, 0.2506406903266907, 3.520338296890259, 4.922662258148193, -2.9033942222595215, 2.015181064605713, -0.3365737497806549, -3.7459769248962402, -1.4798418283462524, -3.8366446495056152, -0.7743527293205261, -0.6112550497055054, -4.218753337860107, 2.5319435596466064, 1.0052090883255005, -4.994342803955078], \"yaxis\": \"y\"}, {\"hovertemplate\": \"<b>%{hovertext}</b><br><br>pos_max=VBN<br>x=%{x}<br>y=%{y}<br>tfidf_sum_speech_max=%{marker.size}<br>term_str=%{text}<extra></extra>\", \"hovertext\": [\"im\", \"really\", \"time\", \"everything\", \"last\", \"put\", \"hope\", \"nuclear\", \"worked\", \"different\", \"four\"], \"legendgroup\": \"VBN\", \"marker\": {\"color\": \"#FF97FF\", \"size\": [3900.943197794218, 1864.3434455960332, 1333.8992883961384, 992.8138525208082, 1578.8379031812206, 1324.8616214591143, 1217.266885272588, 1731.0711324988545, 911.2138255741388, 1225.7349624716037, 1399.4220586775305], \"sizemode\": \"area\", \"sizeref\": 39.47138134029294, \"symbol\": \"circle\"}, \"mode\": \"markers+text\", \"name\": \"VBN\", \"orientation\": \"v\", \"showlegend\": true, \"text\": [\"im\", \"really\", \"time\", \"everything\", \"last\", \"put\", \"hope\", \"nuclear\", \"worked\", \"different\", \"four\"], \"textfont\": {\"color\": \"black\", \"family\": \"Arial\", \"size\": 14}, \"textposition\": \"top center\", \"type\": \"scatter\", \"x\": [8.091140747070312, 7.1387457847595215, 3.7073841094970703, -5.819066524505615, 4.510397434234619, -2.874119997024536, -1.6536160707473755, -0.8080101609230042, 1.0810970067977905, -0.033215586096048355, 5.34832763671875], \"xaxis\": \"x\", \"y\": [7.240940570831299, -3.7823100090026855, -0.6874009370803833, -2.6298763751983643, -1.0265841484069824, -6.551217555999756, 3.889852523803711, 2.6603548526763916, -0.08549179136753082, 1.2692128419876099, -0.1273583471775055], \"yaxis\": \"y\"}, {\"hovertemplate\": \"<b>%{hovertext}</b><br><br>pos_max=SYM<br>x=%{x}<br>y=%{y}<br>tfidf_sum_speech_max=%{marker.size}<br>term_str=%{text}<extra></extra>\", \"hovertext\": [\"help\"], \"legendgroup\": \"SYM\", \"marker\": {\"color\": \"#FECB52\", \"size\": [1904.5054864340775], \"sizemode\": \"area\", \"sizeref\": 39.47138134029294, \"symbol\": \"circle\"}, \"mode\": \"markers+text\", \"name\": \"SYM\", \"orientation\": \"v\", \"showlegend\": true, \"text\": [\"help\"], \"textfont\": {\"color\": \"black\", \"family\": \"Arial\", \"size\": 14}, \"textposition\": \"top center\", \"type\": \"scatter\", \"x\": [-10.541821479797363], \"xaxis\": \"x\", \"y\": [-4.186384677886963], \"yaxis\": \"y\"}, {\"hovertemplate\": \"<b>%{hovertext}</b><br><br>pos_max=VBD<br>x=%{x}<br>y=%{y}<br>tfidf_sum_speech_max=%{marker.size}<br>term_str=%{text}<extra></extra>\", \"hovertext\": [\"good\", \"thing\", \"heres\"], \"legendgroup\": \"VBD\", \"marker\": {\"color\": \"#636efa\", \"size\": [1373.5502944283562, 1556.3509006517097, 835.8888552501262], \"sizemode\": \"area\", \"sizeref\": 39.47138134029294, \"symbol\": \"circle\"}, \"mode\": \"markers+text\", \"name\": \"VBD\", \"orientation\": \"v\", \"showlegend\": true, \"text\": [\"good\", \"thing\", \"heres\"], \"textfont\": {\"color\": \"black\", \"family\": \"Arial\", \"size\": 14}, \"textposition\": \"top center\", \"type\": \"scatter\", \"x\": [-7.00054931640625, 6.556613922119141, -0.5024659633636475], \"xaxis\": \"x\", \"y\": [-6.515422344207764, 1.6398779153823853, 4.06351375579834], \"yaxis\": \"y\"}, {\"hovertemplate\": \"<b>%{hovertext}</b><br><br>pos_max=JJR<br>x=%{x}<br>y=%{y}<br>tfidf_sum_speech_max=%{marker.size}<br>term_str=%{text}<extra></extra>\", \"hovertext\": [\"thank\"], \"legendgroup\": \"JJR\", \"marker\": {\"color\": \"#EF553B\", \"size\": [2120.911702140481], \"sizemode\": \"area\", \"sizeref\": 39.47138134029294, \"symbol\": \"circle\"}, \"mode\": \"markers+text\", \"name\": \"JJR\", \"orientation\": \"v\", \"showlegend\": true, \"text\": [\"thank\"], \"textfont\": {\"color\": \"black\", \"family\": \"Arial\", \"size\": 14}, \"textposition\": \"top center\", \"type\": \"scatter\", \"x\": [11.539166450500488], \"xaxis\": \"x\", \"y\": [8.766485214233398], \"yaxis\": \"y\"}, {\"hovertemplate\": \"<b>%{hovertext}</b><br><br>pos_max=RB<br>x=%{x}<br>y=%{y}<br>tfidf_sum_speech_max=%{marker.size}<br>term_str=%{text}<extra></extra>\", \"hovertext\": [\"could\", \"actually\", \"youve\", \"trumps\", \"create\"], \"legendgroup\": \"RB\", \"marker\": {\"color\": \"#00cc96\", \"size\": [1391.7832468079098, 983.6519743471551, 1189.0294834462816, 356.96951021726693, 913.1995634766104], \"sizemode\": \"area\", \"sizeref\": 39.47138134029294, \"symbol\": \"circle\"}, \"mode\": \"markers+text\", \"name\": \"RB\", \"orientation\": \"v\", \"showlegend\": true, \"text\": [\"could\", \"actually\", \"youve\", \"trumps\", \"create\"], \"textfont\": {\"color\": \"black\", \"family\": \"Arial\", \"size\": 14}, \"textposition\": \"top center\", \"type\": \"scatter\", \"x\": [3.1143271923065186, 6.621352195739746, 6.237543106079102, 9.029435157775879, -5.922396183013916], \"xaxis\": \"x\", \"y\": [-4.388176918029785, 1.089927077293396, 2.9367380142211914, 1.9414775371551514, -5.574260711669922], \"yaxis\": \"y\"}, {\"hovertemplate\": \"<b>%{hovertext}</b><br><br>pos_max=PRP$<br>x=%{x}<br>y=%{y}<br>tfidf_sum_speech_max=%{marker.size}<br>term_str=%{text}<extra></extra>\", \"hovertext\": [\"important\"], \"legendgroup\": \"PRP$\", \"marker\": {\"color\": \"#ab63fa\", \"size\": [1287.8477133855724], \"sizemode\": \"area\", \"sizeref\": 39.47138134029294, \"symbol\": \"circle\"}, \"mode\": \"markers+text\", \"name\": \"PRP$\", \"orientation\": \"v\", \"showlegend\": true, \"text\": [\"important\"], \"textfont\": {\"color\": \"black\", \"family\": \"Arial\", \"size\": 14}, \"textposition\": \"top center\", \"type\": \"scatter\", \"x\": [4.3043904304504395], \"xaxis\": \"x\", \"y\": [2.8268556594848633], \"yaxis\": \"y\"}, {\"hovertemplate\": \"<b>%{hovertext}</b><br><br>pos_max=CD<br>x=%{x}<br>y=%{y}<br>tfidf_sum_speech_max=%{marker.size}<br>term_str=%{text}<extra></extra>\", \"hovertext\": [\"able\"], \"legendgroup\": \"CD\", \"marker\": {\"color\": \"#FFA15A\", \"size\": [1024.3708230886489], \"sizemode\": \"area\", \"sizeref\": 39.47138134029294, \"symbol\": \"circle\"}, \"mode\": \"markers+text\", \"name\": \"CD\", \"orientation\": \"v\", \"showlegend\": true, \"text\": [\"able\"], \"textfont\": {\"color\": \"black\", \"family\": \"Arial\", \"size\": 14}, \"textposition\": \"top center\", \"type\": \"scatter\", \"x\": [-6.074649333953857], \"xaxis\": \"x\", \"y\": [-1.3608896732330322], \"yaxis\": \"y\"}, {\"hovertemplate\": \"<b>%{hovertext}</b><br><br>pos_max=NNPS<br>x=%{x}<br>y=%{y}<br>tfidf_sum_speech_max=%{marker.size}<br>term_str=%{text}<extra></extra>\", \"hovertext\": [\"someone\"], \"legendgroup\": \"NNPS\", \"marker\": {\"color\": \"#19d3f3\", \"size\": [599.6689167643877], \"sizemode\": \"area\", \"sizeref\": 39.47138134029294, \"symbol\": \"circle\"}, \"mode\": \"markers+text\", \"name\": \"NNPS\", \"orientation\": \"v\", \"showlegend\": true, \"text\": [\"someone\"], \"textfont\": {\"color\": \"black\", \"family\": \"Arial\", \"size\": 14}, \"textposition\": \"top center\", \"type\": \"scatter\", \"x\": [0.5700802803039551], \"xaxis\": \"x\", \"y\": [-1.5592490434646606], \"yaxis\": \"y\"}],                        {\"height\": 1000, \"legend\": {\"itemsizing\": \"constant\", \"title\": {\"text\": \"pos_max\"}, \"tracegroupgap\": 0}, \"margin\": {\"t\": 60}, \"template\": {\"data\": {\"bar\": [{\"error_x\": {\"color\": \"#2a3f5f\"}, \"error_y\": {\"color\": \"#2a3f5f\"}, \"marker\": {\"line\": {\"color\": \"#E5ECF6\", \"width\": 0.5}}, \"type\": \"bar\"}], \"barpolar\": [{\"marker\": {\"line\": {\"color\": \"#E5ECF6\", \"width\": 0.5}}, \"type\": \"barpolar\"}], \"carpet\": [{\"aaxis\": {\"endlinecolor\": \"#2a3f5f\", \"gridcolor\": \"white\", \"linecolor\": \"white\", \"minorgridcolor\": \"white\", \"startlinecolor\": \"#2a3f5f\"}, \"baxis\": {\"endlinecolor\": \"#2a3f5f\", \"gridcolor\": \"white\", \"linecolor\": \"white\", \"minorgridcolor\": \"white\", \"startlinecolor\": \"#2a3f5f\"}, \"type\": \"carpet\"}], \"choropleth\": [{\"colorbar\": {\"outlinewidth\": 0, \"ticks\": \"\"}, \"type\": \"choropleth\"}], \"contour\": [{\"colorbar\": {\"outlinewidth\": 0, \"ticks\": \"\"}, \"colorscale\": [[0.0, \"#0d0887\"], [0.1111111111111111, \"#46039f\"], [0.2222222222222222, \"#7201a8\"], [0.3333333333333333, \"#9c179e\"], [0.4444444444444444, \"#bd3786\"], [0.5555555555555556, \"#d8576b\"], [0.6666666666666666, \"#ed7953\"], [0.7777777777777778, \"#fb9f3a\"], [0.8888888888888888, \"#fdca26\"], [1.0, \"#f0f921\"]], \"type\": \"contour\"}], \"contourcarpet\": [{\"colorbar\": {\"outlinewidth\": 0, \"ticks\": \"\"}, \"type\": \"contourcarpet\"}], \"heatmap\": [{\"colorbar\": {\"outlinewidth\": 0, \"ticks\": \"\"}, \"colorscale\": [[0.0, \"#0d0887\"], [0.1111111111111111, \"#46039f\"], [0.2222222222222222, \"#7201a8\"], [0.3333333333333333, \"#9c179e\"], [0.4444444444444444, \"#bd3786\"], [0.5555555555555556, \"#d8576b\"], [0.6666666666666666, \"#ed7953\"], [0.7777777777777778, \"#fb9f3a\"], [0.8888888888888888, \"#fdca26\"], [1.0, \"#f0f921\"]], \"type\": \"heatmap\"}], \"heatmapgl\": [{\"colorbar\": {\"outlinewidth\": 0, \"ticks\": \"\"}, \"colorscale\": [[0.0, \"#0d0887\"], [0.1111111111111111, \"#46039f\"], [0.2222222222222222, \"#7201a8\"], [0.3333333333333333, \"#9c179e\"], [0.4444444444444444, \"#bd3786\"], [0.5555555555555556, \"#d8576b\"], [0.6666666666666666, \"#ed7953\"], [0.7777777777777778, \"#fb9f3a\"], [0.8888888888888888, \"#fdca26\"], [1.0, \"#f0f921\"]], \"type\": \"heatmapgl\"}], \"histogram\": [{\"marker\": {\"colorbar\": {\"outlinewidth\": 0, \"ticks\": \"\"}}, \"type\": \"histogram\"}], \"histogram2d\": [{\"colorbar\": {\"outlinewidth\": 0, \"ticks\": \"\"}, \"colorscale\": [[0.0, \"#0d0887\"], [0.1111111111111111, \"#46039f\"], [0.2222222222222222, \"#7201a8\"], [0.3333333333333333, \"#9c179e\"], [0.4444444444444444, \"#bd3786\"], [0.5555555555555556, \"#d8576b\"], [0.6666666666666666, \"#ed7953\"], [0.7777777777777778, \"#fb9f3a\"], [0.8888888888888888, \"#fdca26\"], [1.0, \"#f0f921\"]], \"type\": \"histogram2d\"}], \"histogram2dcontour\": [{\"colorbar\": {\"outlinewidth\": 0, \"ticks\": \"\"}, \"colorscale\": [[0.0, \"#0d0887\"], [0.1111111111111111, \"#46039f\"], [0.2222222222222222, \"#7201a8\"], [0.3333333333333333, \"#9c179e\"], [0.4444444444444444, \"#bd3786\"], [0.5555555555555556, \"#d8576b\"], [0.6666666666666666, \"#ed7953\"], [0.7777777777777778, \"#fb9f3a\"], [0.8888888888888888, \"#fdca26\"], [1.0, \"#f0f921\"]], \"type\": \"histogram2dcontour\"}], \"mesh3d\": [{\"colorbar\": {\"outlinewidth\": 0, \"ticks\": \"\"}, \"type\": \"mesh3d\"}], \"parcoords\": [{\"line\": {\"colorbar\": {\"outlinewidth\": 0, \"ticks\": \"\"}}, \"type\": \"parcoords\"}], \"pie\": [{\"automargin\": true, \"type\": \"pie\"}], \"scatter\": [{\"marker\": {\"colorbar\": {\"outlinewidth\": 0, \"ticks\": \"\"}}, \"type\": \"scatter\"}], \"scatter3d\": [{\"line\": {\"colorbar\": {\"outlinewidth\": 0, \"ticks\": \"\"}}, \"marker\": {\"colorbar\": {\"outlinewidth\": 0, \"ticks\": \"\"}}, \"type\": \"scatter3d\"}], \"scattercarpet\": [{\"marker\": {\"colorbar\": {\"outlinewidth\": 0, \"ticks\": \"\"}}, \"type\": \"scattercarpet\"}], \"scattergeo\": [{\"marker\": {\"colorbar\": {\"outlinewidth\": 0, \"ticks\": \"\"}}, \"type\": \"scattergeo\"}], \"scattergl\": [{\"marker\": {\"colorbar\": {\"outlinewidth\": 0, \"ticks\": \"\"}}, \"type\": \"scattergl\"}], \"scattermapbox\": [{\"marker\": {\"colorbar\": {\"outlinewidth\": 0, \"ticks\": \"\"}}, \"type\": \"scattermapbox\"}], \"scatterpolar\": [{\"marker\": {\"colorbar\": {\"outlinewidth\": 0, \"ticks\": \"\"}}, \"type\": \"scatterpolar\"}], \"scatterpolargl\": [{\"marker\": {\"colorbar\": {\"outlinewidth\": 0, \"ticks\": \"\"}}, \"type\": \"scatterpolargl\"}], \"scatterternary\": [{\"marker\": {\"colorbar\": {\"outlinewidth\": 0, \"ticks\": \"\"}}, \"type\": \"scatterternary\"}], \"surface\": [{\"colorbar\": {\"outlinewidth\": 0, \"ticks\": \"\"}, \"colorscale\": [[0.0, \"#0d0887\"], [0.1111111111111111, \"#46039f\"], [0.2222222222222222, \"#7201a8\"], [0.3333333333333333, \"#9c179e\"], [0.4444444444444444, \"#bd3786\"], [0.5555555555555556, \"#d8576b\"], [0.6666666666666666, \"#ed7953\"], [0.7777777777777778, \"#fb9f3a\"], [0.8888888888888888, \"#fdca26\"], [1.0, \"#f0f921\"]], \"type\": \"surface\"}], \"table\": [{\"cells\": {\"fill\": {\"color\": \"#EBF0F8\"}, \"line\": {\"color\": \"white\"}}, \"header\": {\"fill\": {\"color\": \"#C8D4E3\"}, \"line\": {\"color\": \"white\"}}, \"type\": \"table\"}]}, \"layout\": {\"annotationdefaults\": {\"arrowcolor\": \"#2a3f5f\", \"arrowhead\": 0, \"arrowwidth\": 1}, \"autotypenumbers\": \"strict\", \"coloraxis\": {\"colorbar\": {\"outlinewidth\": 0, \"ticks\": \"\"}}, \"colorscale\": {\"diverging\": [[0, \"#8e0152\"], [0.1, \"#c51b7d\"], [0.2, \"#de77ae\"], [0.3, \"#f1b6da\"], [0.4, \"#fde0ef\"], [0.5, \"#f7f7f7\"], [0.6, \"#e6f5d0\"], [0.7, \"#b8e186\"], [0.8, \"#7fbc41\"], [0.9, \"#4d9221\"], [1, \"#276419\"]], \"sequential\": [[0.0, \"#0d0887\"], [0.1111111111111111, \"#46039f\"], [0.2222222222222222, \"#7201a8\"], [0.3333333333333333, \"#9c179e\"], [0.4444444444444444, \"#bd3786\"], [0.5555555555555556, \"#d8576b\"], [0.6666666666666666, \"#ed7953\"], [0.7777777777777778, \"#fb9f3a\"], [0.8888888888888888, \"#fdca26\"], [1.0, \"#f0f921\"]], \"sequentialminus\": [[0.0, \"#0d0887\"], [0.1111111111111111, \"#46039f\"], [0.2222222222222222, \"#7201a8\"], [0.3333333333333333, \"#9c179e\"], [0.4444444444444444, \"#bd3786\"], [0.5555555555555556, \"#d8576b\"], [0.6666666666666666, \"#ed7953\"], [0.7777777777777778, \"#fb9f3a\"], [0.8888888888888888, \"#fdca26\"], [1.0, \"#f0f921\"]]}, \"colorway\": [\"#636efa\", \"#EF553B\", \"#00cc96\", \"#ab63fa\", \"#FFA15A\", \"#19d3f3\", \"#FF6692\", \"#B6E880\", \"#FF97FF\", \"#FECB52\"], \"font\": {\"color\": \"#2a3f5f\"}, \"geo\": {\"bgcolor\": \"white\", \"lakecolor\": \"white\", \"landcolor\": \"#E5ECF6\", \"showlakes\": true, \"showland\": true, \"subunitcolor\": \"white\"}, \"hoverlabel\": {\"align\": \"left\"}, \"hovermode\": \"closest\", \"mapbox\": {\"style\": \"light\"}, \"paper_bgcolor\": \"white\", \"plot_bgcolor\": \"#E5ECF6\", \"polar\": {\"angularaxis\": {\"gridcolor\": \"white\", \"linecolor\": \"white\", \"ticks\": \"\"}, \"bgcolor\": \"#E5ECF6\", \"radialaxis\": {\"gridcolor\": \"white\", \"linecolor\": \"white\", \"ticks\": \"\"}}, \"scene\": {\"xaxis\": {\"backgroundcolor\": \"#E5ECF6\", \"gridcolor\": \"white\", \"gridwidth\": 2, \"linecolor\": \"white\", \"showbackground\": true, \"ticks\": \"\", \"zerolinecolor\": \"white\"}, \"yaxis\": {\"backgroundcolor\": \"#E5ECF6\", \"gridcolor\": \"white\", \"gridwidth\": 2, \"linecolor\": \"white\", \"showbackground\": true, \"ticks\": \"\", \"zerolinecolor\": \"white\"}, \"zaxis\": {\"backgroundcolor\": \"#E5ECF6\", \"gridcolor\": \"white\", \"gridwidth\": 2, \"linecolor\": \"white\", \"showbackground\": true, \"ticks\": \"\", \"zerolinecolor\": \"white\"}}, \"shapedefaults\": {\"line\": {\"color\": \"#2a3f5f\"}}, \"ternary\": {\"aaxis\": {\"gridcolor\": \"white\", \"linecolor\": \"white\", \"ticks\": \"\"}, \"baxis\": {\"gridcolor\": \"white\", \"linecolor\": \"white\", \"ticks\": \"\"}, \"bgcolor\": \"#E5ECF6\", \"caxis\": {\"gridcolor\": \"white\", \"linecolor\": \"white\", \"ticks\": \"\"}}, \"title\": {\"x\": 0.05}, \"xaxis\": {\"automargin\": true, \"gridcolor\": \"white\", \"linecolor\": \"white\", \"ticks\": \"\", \"title\": {\"standoff\": 15}, \"zerolinecolor\": \"white\", \"zerolinewidth\": 2}, \"yaxis\": {\"automargin\": true, \"gridcolor\": \"white\", \"linecolor\": \"white\", \"ticks\": \"\", \"title\": {\"standoff\": 15}, \"zerolinecolor\": \"white\", \"zerolinewidth\": 2}}}, \"xaxis\": {\"anchor\": \"y\", \"domain\": [0.0, 1.0], \"title\": {\"text\": \"x\"}}, \"yaxis\": {\"anchor\": \"x\", \"domain\": [0.0, 1.0], \"title\": {\"text\": \"y\"}}},                        {\"responsive\": true}                    ).then(function(){\n",
       "                            \n",
       "var gd = document.getElementById('afe155ab-8c92-42c0-bbc6-e7b5ca7ccc7e');\n",
       "var x = new MutationObserver(function (mutations, observer) {{\n",
       "        var display = window.getComputedStyle(gd).display;\n",
       "        if (!display || display === 'none') {{\n",
       "            console.log([gd, 'removed!']);\n",
       "            Plotly.purge(gd);\n",
       "            observer.disconnect();\n",
       "        }}\n",
       "}});\n",
       "\n",
       "// Listen for the removal of the full notebook cells\n",
       "var notebookContainer = gd.closest('#notebook-container');\n",
       "if (notebookContainer) {{\n",
       "    x.observe(notebookContainer, {childList: true});\n",
       "}}\n",
       "\n",
       "// Listen for the clearing of the current output cell\n",
       "var outputEl = gd.closest('.output');\n",
       "if (outputEl) {{\n",
       "    x.observe(outputEl, {childList: true});\n",
       "}}\n",
       "\n",
       "                        })                };                });            </script>        </div>"
      ]
     },
     "metadata": {},
     "output_type": "display_data"
    }
   ],
   "source": [
    "px.scatter(coords.reset_index(), 'x', 'y', \n",
    "           text='term_str', \n",
    "           color='pos_max', \n",
    "           hover_name='term_str',          \n",
    "           size='tfidf_sum_speech_max',\n",
    "           height=1000).update_traces(\n",
    "                mode='markers+text', \n",
    "                textfont=dict(color='black', size=14, family='Arial'),\n",
    "                textposition='top center')"
   ]
  },
  {
   "cell_type": "code",
   "execution_count": null,
   "metadata": {},
   "outputs": [],
   "source": []
  },
  {
   "cell_type": "markdown",
   "metadata": {},
   "source": [
    "## Semantic Algebra"
   ]
  },
  {
   "cell_type": "markdown",
   "metadata": {},
   "source": [
    "### Analogies\n",
    "\n",
    "$A : B :: C : D? \\rightarrow B - A + C = D$\n"
   ]
  },
  {
   "cell_type": "code",
   "execution_count": 60,
   "metadata": {},
   "outputs": [],
   "source": [
    "def complete_analogy(A, B, C, n=2):\n",
    "    try:\n",
    "        cols = ['term', 'sim']\n",
    "        return pd.DataFrame(model.wv.most_similar(positive=[B, C], negative=[A])[0:n], columns=cols)\n",
    "    except KeyError as e:\n",
    "        print('Error:', e)\n",
    "        return None\n",
    "    \n",
    "def get_most_similar(positive, negative=None):\n",
    "    return pd.DataFrame(model.wv.most_similar(positive, negative), columns=['term', 'sim'])"
   ]
  },
  {
   "cell_type": "code",
   "execution_count": 61,
   "metadata": {},
   "outputs": [
    {
     "name": "stdout",
     "output_type": "stream",
     "text": [
      "Error: \"Key 'smart' not present\"\n"
     ]
    }
   ],
   "source": [
    "complete_analogy('men', 'smart', 'women', 10)"
   ]
  },
  {
   "cell_type": "code",
   "execution_count": 62,
   "metadata": {},
   "outputs": [
    {
     "name": "stdout",
     "output_type": "stream",
     "text": [
      "Error: \"Key 'boy' not present\"\n"
     ]
    }
   ],
   "source": [
    "complete_analogy('man', 'boy', 'woman', 10)"
   ]
  },
  {
   "cell_type": "code",
   "execution_count": 63,
   "metadata": {},
   "outputs": [
    {
     "name": "stdout",
     "output_type": "stream",
     "text": [
      "Error: \"Key 'rich' not present\"\n"
     ]
    }
   ],
   "source": [
    "complete_analogy('man', 'rich', 'woman', 10)"
   ]
  },
  {
   "cell_type": "code",
   "execution_count": 64,
   "metadata": {},
   "outputs": [
    {
     "name": "stdout",
     "output_type": "stream",
     "text": [
      "Error: \"Key 'smart' not present\"\n"
     ]
    }
   ],
   "source": [
    "complete_analogy('man', 'smart', 'woman', 10)"
   ]
  },
  {
   "cell_type": "markdown",
   "metadata": {},
   "source": [
    "### Similarites"
   ]
  },
  {
   "cell_type": "code",
   "execution_count": 65,
   "metadata": {},
   "outputs": [
    {
     "ename": "KeyError",
     "evalue": "\"Key 'smart' not present\"",
     "output_type": "error",
     "traceback": [
      "\u001b[0;31m---------------------------------------------------------------------------\u001b[0m",
      "\u001b[0;31mKeyError\u001b[0m                                  Traceback (most recent call last)",
      "\u001b[0;32m<ipython-input-65-e68b714d8617>\u001b[0m in \u001b[0;36m<module>\u001b[0;34m\u001b[0m\n\u001b[0;32m----> 1\u001b[0;31m \u001b[0mget_most_similar\u001b[0m\u001b[0;34m(\u001b[0m\u001b[0;34m'smart'\u001b[0m\u001b[0;34m)\u001b[0m\u001b[0;34m\u001b[0m\u001b[0;34m\u001b[0m\u001b[0m\n\u001b[0m",
      "\u001b[0;32m<ipython-input-60-ef6d02dccbaf>\u001b[0m in \u001b[0;36mget_most_similar\u001b[0;34m(positive, negative)\u001b[0m\n\u001b[1;32m      8\u001b[0m \u001b[0;34m\u001b[0m\u001b[0m\n\u001b[1;32m      9\u001b[0m \u001b[0;32mdef\u001b[0m \u001b[0mget_most_similar\u001b[0m\u001b[0;34m(\u001b[0m\u001b[0mpositive\u001b[0m\u001b[0;34m,\u001b[0m \u001b[0mnegative\u001b[0m\u001b[0;34m=\u001b[0m\u001b[0;32mNone\u001b[0m\u001b[0;34m)\u001b[0m\u001b[0;34m:\u001b[0m\u001b[0;34m\u001b[0m\u001b[0;34m\u001b[0m\u001b[0m\n\u001b[0;32m---> 10\u001b[0;31m     \u001b[0;32mreturn\u001b[0m \u001b[0mpd\u001b[0m\u001b[0;34m.\u001b[0m\u001b[0mDataFrame\u001b[0m\u001b[0;34m(\u001b[0m\u001b[0mmodel\u001b[0m\u001b[0;34m.\u001b[0m\u001b[0mwv\u001b[0m\u001b[0;34m.\u001b[0m\u001b[0mmost_similar\u001b[0m\u001b[0;34m(\u001b[0m\u001b[0mpositive\u001b[0m\u001b[0;34m,\u001b[0m \u001b[0mnegative\u001b[0m\u001b[0;34m)\u001b[0m\u001b[0;34m,\u001b[0m \u001b[0mcolumns\u001b[0m\u001b[0;34m=\u001b[0m\u001b[0;34m[\u001b[0m\u001b[0;34m'term'\u001b[0m\u001b[0;34m,\u001b[0m \u001b[0;34m'sim'\u001b[0m\u001b[0;34m]\u001b[0m\u001b[0;34m)\u001b[0m\u001b[0;34m\u001b[0m\u001b[0;34m\u001b[0m\u001b[0m\n\u001b[0m",
      "\u001b[0;32m~/opt/anaconda3/lib/python3.8/site-packages/gensim/models/keyedvectors.py\u001b[0m in \u001b[0;36mmost_similar\u001b[0;34m(self, positive, negative, topn, clip_start, clip_end, restrict_vocab, indexer)\u001b[0m\n\u001b[1;32m    760\u001b[0m                 \u001b[0mmean\u001b[0m\u001b[0;34m.\u001b[0m\u001b[0mappend\u001b[0m\u001b[0;34m(\u001b[0m\u001b[0mweight\u001b[0m \u001b[0;34m*\u001b[0m \u001b[0mkey\u001b[0m\u001b[0;34m)\u001b[0m\u001b[0;34m\u001b[0m\u001b[0;34m\u001b[0m\u001b[0m\n\u001b[1;32m    761\u001b[0m             \u001b[0;32melse\u001b[0m\u001b[0;34m:\u001b[0m\u001b[0;34m\u001b[0m\u001b[0;34m\u001b[0m\u001b[0m\n\u001b[0;32m--> 762\u001b[0;31m                 \u001b[0mmean\u001b[0m\u001b[0;34m.\u001b[0m\u001b[0mappend\u001b[0m\u001b[0;34m(\u001b[0m\u001b[0mweight\u001b[0m \u001b[0;34m*\u001b[0m \u001b[0mself\u001b[0m\u001b[0;34m.\u001b[0m\u001b[0mget_vector\u001b[0m\u001b[0;34m(\u001b[0m\u001b[0mkey\u001b[0m\u001b[0;34m,\u001b[0m \u001b[0mnorm\u001b[0m\u001b[0;34m=\u001b[0m\u001b[0;32mTrue\u001b[0m\u001b[0;34m)\u001b[0m\u001b[0;34m)\u001b[0m\u001b[0;34m\u001b[0m\u001b[0;34m\u001b[0m\u001b[0m\n\u001b[0m\u001b[1;32m    763\u001b[0m                 \u001b[0;32mif\u001b[0m \u001b[0mself\u001b[0m\u001b[0;34m.\u001b[0m\u001b[0mhas_index_for\u001b[0m\u001b[0;34m(\u001b[0m\u001b[0mkey\u001b[0m\u001b[0;34m)\u001b[0m\u001b[0;34m:\u001b[0m\u001b[0;34m\u001b[0m\u001b[0;34m\u001b[0m\u001b[0m\n\u001b[1;32m    764\u001b[0m                     \u001b[0mall_keys\u001b[0m\u001b[0;34m.\u001b[0m\u001b[0madd\u001b[0m\u001b[0;34m(\u001b[0m\u001b[0mself\u001b[0m\u001b[0;34m.\u001b[0m\u001b[0mget_index\u001b[0m\u001b[0;34m(\u001b[0m\u001b[0mkey\u001b[0m\u001b[0;34m)\u001b[0m\u001b[0;34m)\u001b[0m\u001b[0;34m\u001b[0m\u001b[0;34m\u001b[0m\u001b[0m\n",
      "\u001b[0;32m~/opt/anaconda3/lib/python3.8/site-packages/gensim/models/keyedvectors.py\u001b[0m in \u001b[0;36mget_vector\u001b[0;34m(self, key, norm)\u001b[0m\n\u001b[1;32m    420\u001b[0m \u001b[0;34m\u001b[0m\u001b[0m\n\u001b[1;32m    421\u001b[0m         \"\"\"\n\u001b[0;32m--> 422\u001b[0;31m         \u001b[0mindex\u001b[0m \u001b[0;34m=\u001b[0m \u001b[0mself\u001b[0m\u001b[0;34m.\u001b[0m\u001b[0mget_index\u001b[0m\u001b[0;34m(\u001b[0m\u001b[0mkey\u001b[0m\u001b[0;34m)\u001b[0m\u001b[0;34m\u001b[0m\u001b[0;34m\u001b[0m\u001b[0m\n\u001b[0m\u001b[1;32m    423\u001b[0m         \u001b[0;32mif\u001b[0m \u001b[0mnorm\u001b[0m\u001b[0;34m:\u001b[0m\u001b[0;34m\u001b[0m\u001b[0;34m\u001b[0m\u001b[0m\n\u001b[1;32m    424\u001b[0m             \u001b[0mself\u001b[0m\u001b[0;34m.\u001b[0m\u001b[0mfill_norms\u001b[0m\u001b[0;34m(\u001b[0m\u001b[0;34m)\u001b[0m\u001b[0;34m\u001b[0m\u001b[0;34m\u001b[0m\u001b[0m\n",
      "\u001b[0;32m~/opt/anaconda3/lib/python3.8/site-packages/gensim/models/keyedvectors.py\u001b[0m in \u001b[0;36mget_index\u001b[0;34m(self, key, default)\u001b[0m\n\u001b[1;32m    394\u001b[0m             \u001b[0;32mreturn\u001b[0m \u001b[0mdefault\u001b[0m\u001b[0;34m\u001b[0m\u001b[0;34m\u001b[0m\u001b[0m\n\u001b[1;32m    395\u001b[0m         \u001b[0;32melse\u001b[0m\u001b[0;34m:\u001b[0m\u001b[0;34m\u001b[0m\u001b[0;34m\u001b[0m\u001b[0m\n\u001b[0;32m--> 396\u001b[0;31m             \u001b[0;32mraise\u001b[0m \u001b[0mKeyError\u001b[0m\u001b[0;34m(\u001b[0m\u001b[0;34mf\"Key '{key}' not present\"\u001b[0m\u001b[0;34m)\u001b[0m\u001b[0;34m\u001b[0m\u001b[0;34m\u001b[0m\u001b[0m\n\u001b[0m\u001b[1;32m    397\u001b[0m \u001b[0;34m\u001b[0m\u001b[0m\n\u001b[1;32m    398\u001b[0m     \u001b[0;32mdef\u001b[0m \u001b[0mget_vector\u001b[0m\u001b[0;34m(\u001b[0m\u001b[0mself\u001b[0m\u001b[0;34m,\u001b[0m \u001b[0mkey\u001b[0m\u001b[0;34m,\u001b[0m \u001b[0mnorm\u001b[0m\u001b[0;34m=\u001b[0m\u001b[0;32mFalse\u001b[0m\u001b[0;34m)\u001b[0m\u001b[0;34m:\u001b[0m\u001b[0;34m\u001b[0m\u001b[0;34m\u001b[0m\u001b[0m\n",
      "\u001b[0;31mKeyError\u001b[0m: \"Key 'smart' not present\""
     ]
    }
   ],
   "source": [
    "get_most_similar('smart')"
   ]
  },
  {
   "cell_type": "code",
   "execution_count": 66,
   "metadata": {},
   "outputs": [
    {
     "data": {
      "text/html": [
       "<div>\n",
       "<style scoped>\n",
       "    .dataframe tbody tr th:only-of-type {\n",
       "        vertical-align: middle;\n",
       "    }\n",
       "\n",
       "    .dataframe tbody tr th {\n",
       "        vertical-align: top;\n",
       "    }\n",
       "\n",
       "    .dataframe thead th {\n",
       "        text-align: right;\n",
       "    }\n",
       "</style>\n",
       "<table border=\"1\" class=\"dataframe\">\n",
       "  <thead>\n",
       "    <tr style=\"text-align: right;\">\n",
       "      <th></th>\n",
       "      <th>term</th>\n",
       "      <th>sim</th>\n",
       "    </tr>\n",
       "  </thead>\n",
       "  <tbody>\n",
       "    <tr>\n",
       "      <th>0</th>\n",
       "      <td>last</td>\n",
       "      <td>0.998864</td>\n",
       "    </tr>\n",
       "    <tr>\n",
       "      <th>1</th>\n",
       "      <td>two</td>\n",
       "      <td>0.998795</td>\n",
       "    </tr>\n",
       "    <tr>\n",
       "      <th>2</th>\n",
       "      <td>over</td>\n",
       "      <td>0.998706</td>\n",
       "    </tr>\n",
       "    <tr>\n",
       "      <th>3</th>\n",
       "      <td>time</td>\n",
       "      <td>0.998644</td>\n",
       "    </tr>\n",
       "    <tr>\n",
       "      <th>4</th>\n",
       "      <td>today</td>\n",
       "      <td>0.998609</td>\n",
       "    </tr>\n",
       "    <tr>\n",
       "      <th>5</th>\n",
       "      <td>which</td>\n",
       "      <td>0.998507</td>\n",
       "    </tr>\n",
       "    <tr>\n",
       "      <th>6</th>\n",
       "      <td>after</td>\n",
       "      <td>0.998491</td>\n",
       "    </tr>\n",
       "    <tr>\n",
       "      <th>7</th>\n",
       "      <td>same</td>\n",
       "      <td>0.998375</td>\n",
       "    </tr>\n",
       "    <tr>\n",
       "      <th>8</th>\n",
       "      <td>state</td>\n",
       "      <td>0.998371</td>\n",
       "    </tr>\n",
       "    <tr>\n",
       "      <th>9</th>\n",
       "      <td>before</td>\n",
       "      <td>0.998319</td>\n",
       "    </tr>\n",
       "  </tbody>\n",
       "</table>\n",
       "</div>"
      ],
      "text/plain": [
       "     term       sim\n",
       "0    last  0.998864\n",
       "1     two  0.998795\n",
       "2    over  0.998706\n",
       "3    time  0.998644\n",
       "4   today  0.998609\n",
       "5   which  0.998507\n",
       "6   after  0.998491\n",
       "7    same  0.998375\n",
       "8   state  0.998371\n",
       "9  before  0.998319"
      ]
     },
     "execution_count": 66,
     "metadata": {},
     "output_type": "execute_result"
    }
   ],
   "source": [
    "get_most_similar('man')"
   ]
  },
  {
   "cell_type": "code",
   "execution_count": 67,
   "metadata": {},
   "outputs": [
    {
     "data": {
      "text/html": [
       "<div>\n",
       "<style scoped>\n",
       "    .dataframe tbody tr th:only-of-type {\n",
       "        vertical-align: middle;\n",
       "    }\n",
       "\n",
       "    .dataframe tbody tr th {\n",
       "        vertical-align: top;\n",
       "    }\n",
       "\n",
       "    .dataframe thead th {\n",
       "        text-align: right;\n",
       "    }\n",
       "</style>\n",
       "<table border=\"1\" class=\"dataframe\">\n",
       "  <thead>\n",
       "    <tr style=\"text-align: right;\">\n",
       "      <th></th>\n",
       "      <th>term</th>\n",
       "      <th>sim</th>\n",
       "    </tr>\n",
       "  </thead>\n",
       "  <tbody>\n",
       "    <tr>\n",
       "      <th>0</th>\n",
       "      <td>never</td>\n",
       "      <td>0.998076</td>\n",
       "    </tr>\n",
       "    <tr>\n",
       "      <th>1</th>\n",
       "      <td>workers</td>\n",
       "      <td>0.998069</td>\n",
       "    </tr>\n",
       "    <tr>\n",
       "      <th>2</th>\n",
       "      <td>made</td>\n",
       "      <td>0.997867</td>\n",
       "    </tr>\n",
       "    <tr>\n",
       "      <th>3</th>\n",
       "      <td>place</td>\n",
       "      <td>0.997742</td>\n",
       "    </tr>\n",
       "    <tr>\n",
       "      <th>4</th>\n",
       "      <td>support</td>\n",
       "      <td>0.997615</td>\n",
       "    </tr>\n",
       "    <tr>\n",
       "      <th>5</th>\n",
       "      <td>plan</td>\n",
       "      <td>0.997609</td>\n",
       "    </tr>\n",
       "    <tr>\n",
       "      <th>6</th>\n",
       "      <td>businesses</td>\n",
       "      <td>0.997597</td>\n",
       "    </tr>\n",
       "    <tr>\n",
       "      <th>7</th>\n",
       "      <td>against</td>\n",
       "      <td>0.997468</td>\n",
       "    </tr>\n",
       "    <tr>\n",
       "      <th>8</th>\n",
       "      <td>into</td>\n",
       "      <td>0.997326</td>\n",
       "    </tr>\n",
       "    <tr>\n",
       "      <th>9</th>\n",
       "      <td>care</td>\n",
       "      <td>0.997324</td>\n",
       "    </tr>\n",
       "  </tbody>\n",
       "</table>\n",
       "</div>"
      ],
      "text/plain": [
       "         term       sim\n",
       "0       never  0.998076\n",
       "1     workers  0.998069\n",
       "2        made  0.997867\n",
       "3       place  0.997742\n",
       "4     support  0.997615\n",
       "5        plan  0.997609\n",
       "6  businesses  0.997597\n",
       "7     against  0.997468\n",
       "8        into  0.997326\n",
       "9        care  0.997324"
      ]
     },
     "execution_count": 67,
     "metadata": {},
     "output_type": "execute_result"
    }
   ],
   "source": [
    "get_most_similar('women')"
   ]
  },
  {
   "cell_type": "code",
   "execution_count": 68,
   "metadata": {},
   "outputs": [
    {
     "ename": "KeyError",
     "evalue": "\"Key 'deplorable' not present\"",
     "output_type": "error",
     "traceback": [
      "\u001b[0;31m---------------------------------------------------------------------------\u001b[0m",
      "\u001b[0;31mKeyError\u001b[0m                                  Traceback (most recent call last)",
      "\u001b[0;32m<ipython-input-68-1f1eded8057a>\u001b[0m in \u001b[0;36m<module>\u001b[0;34m\u001b[0m\n\u001b[0;32m----> 1\u001b[0;31m \u001b[0mget_most_similar\u001b[0m\u001b[0;34m(\u001b[0m\u001b[0;34m'deplorable'\u001b[0m\u001b[0;34m)\u001b[0m\u001b[0;34m\u001b[0m\u001b[0;34m\u001b[0m\u001b[0m\n\u001b[0m",
      "\u001b[0;32m<ipython-input-60-ef6d02dccbaf>\u001b[0m in \u001b[0;36mget_most_similar\u001b[0;34m(positive, negative)\u001b[0m\n\u001b[1;32m      8\u001b[0m \u001b[0;34m\u001b[0m\u001b[0m\n\u001b[1;32m      9\u001b[0m \u001b[0;32mdef\u001b[0m \u001b[0mget_most_similar\u001b[0m\u001b[0;34m(\u001b[0m\u001b[0mpositive\u001b[0m\u001b[0;34m,\u001b[0m \u001b[0mnegative\u001b[0m\u001b[0;34m=\u001b[0m\u001b[0;32mNone\u001b[0m\u001b[0;34m)\u001b[0m\u001b[0;34m:\u001b[0m\u001b[0;34m\u001b[0m\u001b[0;34m\u001b[0m\u001b[0m\n\u001b[0;32m---> 10\u001b[0;31m     \u001b[0;32mreturn\u001b[0m \u001b[0mpd\u001b[0m\u001b[0;34m.\u001b[0m\u001b[0mDataFrame\u001b[0m\u001b[0;34m(\u001b[0m\u001b[0mmodel\u001b[0m\u001b[0;34m.\u001b[0m\u001b[0mwv\u001b[0m\u001b[0;34m.\u001b[0m\u001b[0mmost_similar\u001b[0m\u001b[0;34m(\u001b[0m\u001b[0mpositive\u001b[0m\u001b[0;34m,\u001b[0m \u001b[0mnegative\u001b[0m\u001b[0;34m)\u001b[0m\u001b[0;34m,\u001b[0m \u001b[0mcolumns\u001b[0m\u001b[0;34m=\u001b[0m\u001b[0;34m[\u001b[0m\u001b[0;34m'term'\u001b[0m\u001b[0;34m,\u001b[0m \u001b[0;34m'sim'\u001b[0m\u001b[0;34m]\u001b[0m\u001b[0;34m)\u001b[0m\u001b[0;34m\u001b[0m\u001b[0;34m\u001b[0m\u001b[0m\n\u001b[0m",
      "\u001b[0;32m~/opt/anaconda3/lib/python3.8/site-packages/gensim/models/keyedvectors.py\u001b[0m in \u001b[0;36mmost_similar\u001b[0;34m(self, positive, negative, topn, clip_start, clip_end, restrict_vocab, indexer)\u001b[0m\n\u001b[1;32m    760\u001b[0m                 \u001b[0mmean\u001b[0m\u001b[0;34m.\u001b[0m\u001b[0mappend\u001b[0m\u001b[0;34m(\u001b[0m\u001b[0mweight\u001b[0m \u001b[0;34m*\u001b[0m \u001b[0mkey\u001b[0m\u001b[0;34m)\u001b[0m\u001b[0;34m\u001b[0m\u001b[0;34m\u001b[0m\u001b[0m\n\u001b[1;32m    761\u001b[0m             \u001b[0;32melse\u001b[0m\u001b[0;34m:\u001b[0m\u001b[0;34m\u001b[0m\u001b[0;34m\u001b[0m\u001b[0m\n\u001b[0;32m--> 762\u001b[0;31m                 \u001b[0mmean\u001b[0m\u001b[0;34m.\u001b[0m\u001b[0mappend\u001b[0m\u001b[0;34m(\u001b[0m\u001b[0mweight\u001b[0m \u001b[0;34m*\u001b[0m \u001b[0mself\u001b[0m\u001b[0;34m.\u001b[0m\u001b[0mget_vector\u001b[0m\u001b[0;34m(\u001b[0m\u001b[0mkey\u001b[0m\u001b[0;34m,\u001b[0m \u001b[0mnorm\u001b[0m\u001b[0;34m=\u001b[0m\u001b[0;32mTrue\u001b[0m\u001b[0;34m)\u001b[0m\u001b[0;34m)\u001b[0m\u001b[0;34m\u001b[0m\u001b[0;34m\u001b[0m\u001b[0m\n\u001b[0m\u001b[1;32m    763\u001b[0m                 \u001b[0;32mif\u001b[0m \u001b[0mself\u001b[0m\u001b[0;34m.\u001b[0m\u001b[0mhas_index_for\u001b[0m\u001b[0;34m(\u001b[0m\u001b[0mkey\u001b[0m\u001b[0;34m)\u001b[0m\u001b[0;34m:\u001b[0m\u001b[0;34m\u001b[0m\u001b[0;34m\u001b[0m\u001b[0m\n\u001b[1;32m    764\u001b[0m                     \u001b[0mall_keys\u001b[0m\u001b[0;34m.\u001b[0m\u001b[0madd\u001b[0m\u001b[0;34m(\u001b[0m\u001b[0mself\u001b[0m\u001b[0;34m.\u001b[0m\u001b[0mget_index\u001b[0m\u001b[0;34m(\u001b[0m\u001b[0mkey\u001b[0m\u001b[0;34m)\u001b[0m\u001b[0;34m)\u001b[0m\u001b[0;34m\u001b[0m\u001b[0;34m\u001b[0m\u001b[0m\n",
      "\u001b[0;32m~/opt/anaconda3/lib/python3.8/site-packages/gensim/models/keyedvectors.py\u001b[0m in \u001b[0;36mget_vector\u001b[0;34m(self, key, norm)\u001b[0m\n\u001b[1;32m    420\u001b[0m \u001b[0;34m\u001b[0m\u001b[0m\n\u001b[1;32m    421\u001b[0m         \"\"\"\n\u001b[0;32m--> 422\u001b[0;31m         \u001b[0mindex\u001b[0m \u001b[0;34m=\u001b[0m \u001b[0mself\u001b[0m\u001b[0;34m.\u001b[0m\u001b[0mget_index\u001b[0m\u001b[0;34m(\u001b[0m\u001b[0mkey\u001b[0m\u001b[0;34m)\u001b[0m\u001b[0;34m\u001b[0m\u001b[0;34m\u001b[0m\u001b[0m\n\u001b[0m\u001b[1;32m    423\u001b[0m         \u001b[0;32mif\u001b[0m \u001b[0mnorm\u001b[0m\u001b[0;34m:\u001b[0m\u001b[0;34m\u001b[0m\u001b[0;34m\u001b[0m\u001b[0m\n\u001b[1;32m    424\u001b[0m             \u001b[0mself\u001b[0m\u001b[0;34m.\u001b[0m\u001b[0mfill_norms\u001b[0m\u001b[0;34m(\u001b[0m\u001b[0;34m)\u001b[0m\u001b[0;34m\u001b[0m\u001b[0;34m\u001b[0m\u001b[0m\n",
      "\u001b[0;32m~/opt/anaconda3/lib/python3.8/site-packages/gensim/models/keyedvectors.py\u001b[0m in \u001b[0;36mget_index\u001b[0;34m(self, key, default)\u001b[0m\n\u001b[1;32m    394\u001b[0m             \u001b[0;32mreturn\u001b[0m \u001b[0mdefault\u001b[0m\u001b[0;34m\u001b[0m\u001b[0;34m\u001b[0m\u001b[0m\n\u001b[1;32m    395\u001b[0m         \u001b[0;32melse\u001b[0m\u001b[0;34m:\u001b[0m\u001b[0;34m\u001b[0m\u001b[0;34m\u001b[0m\u001b[0m\n\u001b[0;32m--> 396\u001b[0;31m             \u001b[0;32mraise\u001b[0m \u001b[0mKeyError\u001b[0m\u001b[0;34m(\u001b[0m\u001b[0;34mf\"Key '{key}' not present\"\u001b[0m\u001b[0;34m)\u001b[0m\u001b[0;34m\u001b[0m\u001b[0;34m\u001b[0m\u001b[0m\n\u001b[0m\u001b[1;32m    397\u001b[0m \u001b[0;34m\u001b[0m\u001b[0m\n\u001b[1;32m    398\u001b[0m     \u001b[0;32mdef\u001b[0m \u001b[0mget_vector\u001b[0m\u001b[0;34m(\u001b[0m\u001b[0mself\u001b[0m\u001b[0;34m,\u001b[0m \u001b[0mkey\u001b[0m\u001b[0;34m,\u001b[0m \u001b[0mnorm\u001b[0m\u001b[0;34m=\u001b[0m\u001b[0;32mFalse\u001b[0m\u001b[0;34m)\u001b[0m\u001b[0;34m:\u001b[0m\u001b[0;34m\u001b[0m\u001b[0;34m\u001b[0m\u001b[0m\n",
      "\u001b[0;31mKeyError\u001b[0m: \"Key 'deplorable' not present\""
     ]
    }
   ],
   "source": [
    "get_most_similar('deplorable')"
   ]
  },
  {
   "cell_type": "code",
   "execution_count": 69,
   "metadata": {},
   "outputs": [
    {
     "data": {
      "text/html": [
       "<div>\n",
       "<style scoped>\n",
       "    .dataframe tbody tr th:only-of-type {\n",
       "        vertical-align: middle;\n",
       "    }\n",
       "\n",
       "    .dataframe tbody tr th {\n",
       "        vertical-align: top;\n",
       "    }\n",
       "\n",
       "    .dataframe thead th {\n",
       "        text-align: right;\n",
       "    }\n",
       "</style>\n",
       "<table border=\"1\" class=\"dataframe\">\n",
       "  <thead>\n",
       "    <tr style=\"text-align: right;\">\n",
       "      <th></th>\n",
       "      <th>term</th>\n",
       "      <th>sim</th>\n",
       "    </tr>\n",
       "  </thead>\n",
       "  <tbody>\n",
       "    <tr>\n",
       "      <th>0</th>\n",
       "      <td>never</td>\n",
       "      <td>0.998076</td>\n",
       "    </tr>\n",
       "    <tr>\n",
       "      <th>1</th>\n",
       "      <td>workers</td>\n",
       "      <td>0.998069</td>\n",
       "    </tr>\n",
       "    <tr>\n",
       "      <th>2</th>\n",
       "      <td>made</td>\n",
       "      <td>0.997867</td>\n",
       "    </tr>\n",
       "    <tr>\n",
       "      <th>3</th>\n",
       "      <td>place</td>\n",
       "      <td>0.997742</td>\n",
       "    </tr>\n",
       "    <tr>\n",
       "      <th>4</th>\n",
       "      <td>support</td>\n",
       "      <td>0.997615</td>\n",
       "    </tr>\n",
       "    <tr>\n",
       "      <th>5</th>\n",
       "      <td>plan</td>\n",
       "      <td>0.997609</td>\n",
       "    </tr>\n",
       "    <tr>\n",
       "      <th>6</th>\n",
       "      <td>businesses</td>\n",
       "      <td>0.997597</td>\n",
       "    </tr>\n",
       "    <tr>\n",
       "      <th>7</th>\n",
       "      <td>against</td>\n",
       "      <td>0.997468</td>\n",
       "    </tr>\n",
       "    <tr>\n",
       "      <th>8</th>\n",
       "      <td>into</td>\n",
       "      <td>0.997326</td>\n",
       "    </tr>\n",
       "    <tr>\n",
       "      <th>9</th>\n",
       "      <td>care</td>\n",
       "      <td>0.997324</td>\n",
       "    </tr>\n",
       "  </tbody>\n",
       "</table>\n",
       "</div>"
      ],
      "text/plain": [
       "         term       sim\n",
       "0       never  0.998076\n",
       "1     workers  0.998069\n",
       "2        made  0.997867\n",
       "3       place  0.997742\n",
       "4     support  0.997615\n",
       "5        plan  0.997609\n",
       "6  businesses  0.997597\n",
       "7     against  0.997468\n",
       "8        into  0.997326\n",
       "9        care  0.997324"
      ]
     },
     "execution_count": 69,
     "metadata": {},
     "output_type": "execute_result"
    }
   ],
   "source": [
    "get_most_similar('women')"
   ]
  },
  {
   "cell_type": "code",
   "execution_count": 70,
   "metadata": {},
   "outputs": [
    {
     "data": {
      "text/html": [
       "<div>\n",
       "<style scoped>\n",
       "    .dataframe tbody tr th:only-of-type {\n",
       "        vertical-align: middle;\n",
       "    }\n",
       "\n",
       "    .dataframe tbody tr th {\n",
       "        vertical-align: top;\n",
       "    }\n",
       "\n",
       "    .dataframe thead th {\n",
       "        text-align: right;\n",
       "    }\n",
       "</style>\n",
       "<table border=\"1\" class=\"dataframe\">\n",
       "  <thead>\n",
       "    <tr style=\"text-align: right;\">\n",
       "      <th></th>\n",
       "      <th>term</th>\n",
       "      <th>sim</th>\n",
       "    </tr>\n",
       "  </thead>\n",
       "  <tbody>\n",
       "    <tr>\n",
       "      <th>0</th>\n",
       "      <td>hillary</td>\n",
       "      <td>0.617776</td>\n",
       "    </tr>\n",
       "    <tr>\n",
       "      <th>1</th>\n",
       "      <td>clinton</td>\n",
       "      <td>0.563716</td>\n",
       "    </tr>\n",
       "    <tr>\n",
       "      <th>2</th>\n",
       "      <td>thank</td>\n",
       "      <td>0.497308</td>\n",
       "    </tr>\n",
       "    <tr>\n",
       "      <th>3</th>\n",
       "      <td>audience</td>\n",
       "      <td>0.458198</td>\n",
       "    </tr>\n",
       "    <tr>\n",
       "      <th>4</th>\n",
       "      <td>NaN</td>\n",
       "      <td>0.440812</td>\n",
       "    </tr>\n",
       "    <tr>\n",
       "      <th>5</th>\n",
       "      <td>you</td>\n",
       "      <td>0.351080</td>\n",
       "    </tr>\n",
       "    <tr>\n",
       "      <th>6</th>\n",
       "      <td>tell</td>\n",
       "      <td>0.307952</td>\n",
       "    </tr>\n",
       "    <tr>\n",
       "      <th>7</th>\n",
       "      <td>know</td>\n",
       "      <td>0.298683</td>\n",
       "    </tr>\n",
       "    <tr>\n",
       "      <th>8</th>\n",
       "      <td>well</td>\n",
       "      <td>0.257501</td>\n",
       "    </tr>\n",
       "    <tr>\n",
       "      <th>9</th>\n",
       "      <td>i</td>\n",
       "      <td>0.250901</td>\n",
       "    </tr>\n",
       "  </tbody>\n",
       "</table>\n",
       "</div>"
      ],
      "text/plain": [
       "       term       sim\n",
       "0   hillary  0.617776\n",
       "1   clinton  0.563716\n",
       "2     thank  0.497308\n",
       "3  audience  0.458198\n",
       "4       NaN  0.440812\n",
       "5       you  0.351080\n",
       "6      tell  0.307952\n",
       "7      know  0.298683\n",
       "8      well  0.257501\n",
       "9         i  0.250901"
      ]
     },
     "execution_count": 70,
     "metadata": {},
     "output_type": "execute_result"
    }
   ],
   "source": [
    "get_most_similar(positive=['man'], negative=['women'])"
   ]
  },
  {
   "cell_type": "code",
   "execution_count": 71,
   "metadata": {},
   "outputs": [
    {
     "data": {
      "text/html": [
       "<div>\n",
       "<style scoped>\n",
       "    .dataframe tbody tr th:only-of-type {\n",
       "        vertical-align: middle;\n",
       "    }\n",
       "\n",
       "    .dataframe tbody tr th {\n",
       "        vertical-align: top;\n",
       "    }\n",
       "\n",
       "    .dataframe thead th {\n",
       "        text-align: right;\n",
       "    }\n",
       "</style>\n",
       "<table border=\"1\" class=\"dataframe\">\n",
       "  <thead>\n",
       "    <tr style=\"text-align: right;\">\n",
       "      <th></th>\n",
       "      <th>term</th>\n",
       "      <th>sim</th>\n",
       "    </tr>\n",
       "  </thead>\n",
       "  <tbody>\n",
       "    <tr>\n",
       "      <th>0</th>\n",
       "      <td>never</td>\n",
       "      <td>0.998076</td>\n",
       "    </tr>\n",
       "    <tr>\n",
       "      <th>1</th>\n",
       "      <td>workers</td>\n",
       "      <td>0.998069</td>\n",
       "    </tr>\n",
       "    <tr>\n",
       "      <th>2</th>\n",
       "      <td>made</td>\n",
       "      <td>0.997867</td>\n",
       "    </tr>\n",
       "    <tr>\n",
       "      <th>3</th>\n",
       "      <td>place</td>\n",
       "      <td>0.997742</td>\n",
       "    </tr>\n",
       "    <tr>\n",
       "      <th>4</th>\n",
       "      <td>support</td>\n",
       "      <td>0.997615</td>\n",
       "    </tr>\n",
       "    <tr>\n",
       "      <th>5</th>\n",
       "      <td>plan</td>\n",
       "      <td>0.997609</td>\n",
       "    </tr>\n",
       "    <tr>\n",
       "      <th>6</th>\n",
       "      <td>businesses</td>\n",
       "      <td>0.997597</td>\n",
       "    </tr>\n",
       "    <tr>\n",
       "      <th>7</th>\n",
       "      <td>against</td>\n",
       "      <td>0.997468</td>\n",
       "    </tr>\n",
       "    <tr>\n",
       "      <th>8</th>\n",
       "      <td>into</td>\n",
       "      <td>0.997326</td>\n",
       "    </tr>\n",
       "    <tr>\n",
       "      <th>9</th>\n",
       "      <td>care</td>\n",
       "      <td>0.997324</td>\n",
       "    </tr>\n",
       "  </tbody>\n",
       "</table>\n",
       "</div>"
      ],
      "text/plain": [
       "         term       sim\n",
       "0       never  0.998076\n",
       "1     workers  0.998069\n",
       "2        made  0.997867\n",
       "3       place  0.997742\n",
       "4     support  0.997615\n",
       "5        plan  0.997609\n",
       "6  businesses  0.997597\n",
       "7     against  0.997468\n",
       "8        into  0.997326\n",
       "9        care  0.997324"
      ]
     },
     "execution_count": 71,
     "metadata": {},
     "output_type": "execute_result"
    }
   ],
   "source": [
    "get_most_similar(positive='women')"
   ]
  },
  {
   "cell_type": "code",
   "execution_count": 72,
   "metadata": {},
   "outputs": [
    {
     "data": {
      "text/html": [
       "<div>\n",
       "<style scoped>\n",
       "    .dataframe tbody tr th:only-of-type {\n",
       "        vertical-align: middle;\n",
       "    }\n",
       "\n",
       "    .dataframe tbody tr th {\n",
       "        vertical-align: top;\n",
       "    }\n",
       "\n",
       "    .dataframe thead th {\n",
       "        text-align: right;\n",
       "    }\n",
       "</style>\n",
       "<table border=\"1\" class=\"dataframe\">\n",
       "  <thead>\n",
       "    <tr style=\"text-align: right;\">\n",
       "      <th></th>\n",
       "      <th>term</th>\n",
       "      <th>sim</th>\n",
       "    </tr>\n",
       "  </thead>\n",
       "  <tbody>\n",
       "    <tr>\n",
       "      <th>0</th>\n",
       "      <td>our</td>\n",
       "      <td>0.310583</td>\n",
       "    </tr>\n",
       "    <tr>\n",
       "      <th>1</th>\n",
       "      <td>the</td>\n",
       "      <td>0.191000</td>\n",
       "    </tr>\n",
       "    <tr>\n",
       "      <th>2</th>\n",
       "      <td>people</td>\n",
       "      <td>0.153150</td>\n",
       "    </tr>\n",
       "    <tr>\n",
       "      <th>3</th>\n",
       "      <td>work</td>\n",
       "      <td>0.148218</td>\n",
       "    </tr>\n",
       "    <tr>\n",
       "      <th>4</th>\n",
       "      <td>who</td>\n",
       "      <td>0.146619</td>\n",
       "    </tr>\n",
       "    <tr>\n",
       "      <th>5</th>\n",
       "      <td>of</td>\n",
       "      <td>0.141958</td>\n",
       "    </tr>\n",
       "    <tr>\n",
       "      <th>6</th>\n",
       "      <td>and</td>\n",
       "      <td>0.141292</td>\n",
       "    </tr>\n",
       "    <tr>\n",
       "      <th>7</th>\n",
       "      <td>jobs</td>\n",
       "      <td>0.140068</td>\n",
       "    </tr>\n",
       "    <tr>\n",
       "      <th>8</th>\n",
       "      <td>get</td>\n",
       "      <td>0.138426</td>\n",
       "    </tr>\n",
       "    <tr>\n",
       "      <th>9</th>\n",
       "      <td>country</td>\n",
       "      <td>0.136580</td>\n",
       "    </tr>\n",
       "  </tbody>\n",
       "</table>\n",
       "</div>"
      ],
      "text/plain": [
       "      term       sim\n",
       "0      our  0.310583\n",
       "1      the  0.191000\n",
       "2   people  0.153150\n",
       "3     work  0.148218\n",
       "4      who  0.146619\n",
       "5       of  0.141958\n",
       "6      and  0.141292\n",
       "7     jobs  0.140068\n",
       "8      get  0.138426\n",
       "9  country  0.136580"
      ]
     },
     "execution_count": 72,
     "metadata": {},
     "output_type": "execute_result"
    }
   ],
   "source": [
    "get_most_similar(positive=['women'], negative=['man'])"
   ]
  },
  {
   "cell_type": "markdown",
   "metadata": {},
   "source": [
    "## Save"
   ]
  },
  {
   "cell_type": "code",
   "execution_count": 73,
   "metadata": {},
   "outputs": [],
   "source": [
    "#W2V = pd.DataFrame(model.wv.vectors_norm, index=model.wv.vocab.keys())\n",
    "#W2V.to_csv('{}/{}-W2V.csv'.format(data_out, data_prefix))\n",
    "#pd.Series(DOCS).to_csv('{}/{}-GENSIM_DOCS.csv'.format(data_out, data_prefix), index=False, header=False)"
   ]
  },
  {
   "cell_type": "markdown",
   "metadata": {},
   "source": [
    "## View with HAC"
   ]
  },
  {
   "cell_type": "code",
   "execution_count": 74,
   "metadata": {},
   "outputs": [],
   "source": [
    "proper_nouns = 'tommy emily tuppence agnes edmund holmes'.split()\n",
    "coords2 = coords.loc[~coords.index.isin(proper_nouns), ['vector','stop','tfidf_sum_speech_max','pos_max']]"
   ]
  },
  {
   "cell_type": "code",
   "execution_count": 75,
   "metadata": {},
   "outputs": [
    {
     "data": {
      "text/html": [
       "<div>\n",
       "<style scoped>\n",
       "    .dataframe tbody tr th:only-of-type {\n",
       "        vertical-align: middle;\n",
       "    }\n",
       "\n",
       "    .dataframe tbody tr th {\n",
       "        vertical-align: top;\n",
       "    }\n",
       "\n",
       "    .dataframe thead th {\n",
       "        text-align: right;\n",
       "    }\n",
       "</style>\n",
       "<table border=\"1\" class=\"dataframe\">\n",
       "  <thead>\n",
       "    <tr style=\"text-align: right;\">\n",
       "      <th></th>\n",
       "      <th>vector</th>\n",
       "      <th>stop</th>\n",
       "      <th>tfidf_sum_speech_max</th>\n",
       "      <th>pos_max</th>\n",
       "    </tr>\n",
       "    <tr>\n",
       "      <th>term_str</th>\n",
       "      <th></th>\n",
       "      <th></th>\n",
       "      <th></th>\n",
       "      <th></th>\n",
       "    </tr>\n",
       "  </thead>\n",
       "  <tbody>\n",
       "    <tr>\n",
       "      <th>applause</th>\n",
       "      <td>[0.088469855, -0.14085016, 0.08831157, 0.03465...</td>\n",
       "      <td>0</td>\n",
       "      <td>15788.552536</td>\n",
       "      <td>NNP</td>\n",
       "    </tr>\n",
       "    <tr>\n",
       "      <th>know</th>\n",
       "      <td>[0.080712445, -0.114972, 0.07000601, 0.0080359...</td>\n",
       "      <td>0</td>\n",
       "      <td>3367.726805</td>\n",
       "      <td>NN</td>\n",
       "    </tr>\n",
       "    <tr>\n",
       "      <th>people</th>\n",
       "      <td>[0.027415965, -0.17935957, 0.013477978, -0.010...</td>\n",
       "      <td>0</td>\n",
       "      <td>2320.333401</td>\n",
       "      <td>JJ</td>\n",
       "    </tr>\n",
       "    <tr>\n",
       "      <th>going</th>\n",
       "      <td>[0.04487916, -0.20977941, 0.025951017, 0.00477...</td>\n",
       "      <td>0</td>\n",
       "      <td>7828.914181</td>\n",
       "      <td>VB</td>\n",
       "    </tr>\n",
       "    <tr>\n",
       "      <th>want</th>\n",
       "      <td>[0.072072975, -0.15003575, 0.08541678, -0.0069...</td>\n",
       "      <td>0</td>\n",
       "      <td>2761.350164</td>\n",
       "      <td>NN</td>\n",
       "    </tr>\n",
       "    <tr>\n",
       "      <th>...</th>\n",
       "      <td>...</td>\n",
       "      <td>...</td>\n",
       "      <td>...</td>\n",
       "      <td>...</td>\n",
       "    </tr>\n",
       "    <tr>\n",
       "      <th>proud</th>\n",
       "      <td>[0.04215247, -0.13719273, 0.035873488, 0.00922...</td>\n",
       "      <td>0</td>\n",
       "      <td>936.260322</td>\n",
       "      <td>NN</td>\n",
       "    </tr>\n",
       "    <tr>\n",
       "      <th>single</th>\n",
       "      <td>[0.037063777, -0.16513546, 0.032669477, 0.0063...</td>\n",
       "      <td>0</td>\n",
       "      <td>889.167632</td>\n",
       "      <td>NNP</td>\n",
       "    </tr>\n",
       "    <tr>\n",
       "      <th>millions</th>\n",
       "      <td>[0.024399504, -0.14225543, 0.024494944, -0.000...</td>\n",
       "      <td>0</td>\n",
       "      <td>1244.231737</td>\n",
       "      <td>NNP</td>\n",
       "    </tr>\n",
       "    <tr>\n",
       "      <th>next</th>\n",
       "      <td>[0.044467065, -0.12419777, 0.049781337, 0.0140...</td>\n",
       "      <td>0</td>\n",
       "      <td>1258.214598</td>\n",
       "      <td>NNP</td>\n",
       "    </tr>\n",
       "    <tr>\n",
       "      <th>four</th>\n",
       "      <td>[0.045487557, -0.15084186, 0.033052742, 0.0065...</td>\n",
       "      <td>0</td>\n",
       "      <td>1399.422059</td>\n",
       "      <td>VBN</td>\n",
       "    </tr>\n",
       "  </tbody>\n",
       "</table>\n",
       "<p>177 rows × 4 columns</p>\n",
       "</div>"
      ],
      "text/plain": [
       "                                                     vector  stop  \\\n",
       "term_str                                                            \n",
       "applause  [0.088469855, -0.14085016, 0.08831157, 0.03465...     0   \n",
       "know      [0.080712445, -0.114972, 0.07000601, 0.0080359...     0   \n",
       "people    [0.027415965, -0.17935957, 0.013477978, -0.010...     0   \n",
       "going     [0.04487916, -0.20977941, 0.025951017, 0.00477...     0   \n",
       "want      [0.072072975, -0.15003575, 0.08541678, -0.0069...     0   \n",
       "...                                                     ...   ...   \n",
       "proud     [0.04215247, -0.13719273, 0.035873488, 0.00922...     0   \n",
       "single    [0.037063777, -0.16513546, 0.032669477, 0.0063...     0   \n",
       "millions  [0.024399504, -0.14225543, 0.024494944, -0.000...     0   \n",
       "next      [0.044467065, -0.12419777, 0.049781337, 0.0140...     0   \n",
       "four      [0.045487557, -0.15084186, 0.033052742, 0.0065...     0   \n",
       "\n",
       "          tfidf_sum_speech_max pos_max  \n",
       "term_str                                \n",
       "applause          15788.552536     NNP  \n",
       "know               3367.726805      NN  \n",
       "people             2320.333401      JJ  \n",
       "going              7828.914181      VB  \n",
       "want               2761.350164      NN  \n",
       "...                        ...     ...  \n",
       "proud               936.260322      NN  \n",
       "single              889.167632     NNP  \n",
       "millions           1244.231737     NNP  \n",
       "next               1258.214598     NNP  \n",
       "four               1399.422059     VBN  \n",
       "\n",
       "[177 rows x 4 columns]"
      ]
     },
     "execution_count": 75,
     "metadata": {},
     "output_type": "execute_result"
    }
   ],
   "source": [
    "coords2"
   ]
  },
  {
   "cell_type": "code",
   "execution_count": 76,
   "metadata": {},
   "outputs": [],
   "source": [
    "import scipy.cluster.hierarchy as sch\n",
    "import matplotlib.pyplot as plt\n",
    "\n",
    "def hca(sims, labels, linkage_method='ward', color_thresh=.3):\n",
    "    tree = sch.linkage(sims, method=linkage_method)\n",
    "    fig_height = len(labels) / 3\n",
    "    plt.figure()\n",
    "    fig, axes = plt.subplots(figsize=(10, fig_height))\n",
    "    dendrogram = sch.dendrogram(tree, \n",
    "                                labels=labels, \n",
    "                                orientation=\"left\", \n",
    "                                count_sort=True,\n",
    "                                distance_sort=True,\n",
    "                                above_threshold_color='.75',\n",
    "                                color_threshold=color_thresh\n",
    "                               )\n",
    "    plt.tick_params(axis='both', which='major', labelsize=14)\n",
    "\n",
    "def plot_terms_tree(coords, terms_n = 100, term_pos_pat = r'^(N|V)', color_thresh=1):\n",
    "    term_filter = coords.pos_max.str.match(term_pos_pat) & (coords.stop == 0) & (coords.index.str.len() > 2)\n",
    "    M = coords[term_filter].sort_values('tfidf_sum_speech_max', ascending=False).vector.head(terms_n)\n",
    "    IDX = coords.loc[M.index].index #term_str\n",
    "    hca(M.to_list(), IDX.to_list(), color_thresh=color_thresh)"
   ]
  },
  {
   "cell_type": "code",
   "execution_count": 77,
   "metadata": {},
   "outputs": [
    {
     "data": {
      "text/plain": [
       "<Figure size 432x288 with 0 Axes>"
      ]
     },
     "metadata": {},
     "output_type": "display_data"
    },
    {
     "data": {
      "image/png": "[encoded data removed]",
      "text/plain": [
       "<Figure size 720x2376 with 1 Axes>"
      ]
     },
     "metadata": {
      "needs_background": "light"
     },
     "output_type": "display_data"
    }
   ],
   "source": [
    "plot_terms_tree(coords2, term_pos_pat=r'^NN[^P]?', color_thresh=9, terms_n=100)"
   ]
  },
  {
   "cell_type": "code",
   "execution_count": 79,
   "metadata": {},
   "outputs": [
    {
     "data": {
      "text/plain": [
       "<Figure size 432x288 with 0 Axes>"
      ]
     },
     "metadata": {},
     "output_type": "display_data"
    },
    {
     "data": {
      "image/png": "[encoded data removed]",
      "text/plain": [
       "<Figure size 720x816 with 1 Axes>"
      ]
     },
     "metadata": {
      "needs_background": "light"
     },
     "output_type": "display_data"
    }
   ],
   "source": [
    "plot_terms_tree(coords2, term_pos_pat=r'^V', color_thresh=8, terms_n=100)"
   ]
  },
  {
   "cell_type": "code",
   "execution_count": null,
   "metadata": {},
   "outputs": [],
   "source": [
    "complete_analogy('us','great','china', 10)"
   ]
  },
  {
   "cell_type": "code",
   "execution_count": null,
   "metadata": {},
   "outputs": [],
   "source": [
    "complete_analogy('america', 'great', 'china', 20)"
   ]
  },
  {
   "cell_type": "code",
   "execution_count": null,
   "metadata": {},
   "outputs": [],
   "source": [
    "complete_analogy('man','job','women', 10)"
   ]
  },
  {
   "cell_type": "code",
   "execution_count": null,
   "metadata": {},
   "outputs": [],
   "source": [
    "complete_analogy('us','great','mexico', 10)"
   ]
  },
  {
   "cell_type": "code",
   "execution_count": null,
   "metadata": {},
   "outputs": [],
   "source": [
    "complete_analogy('us','great','russia', 10)"
   ]
  },
  {
   "cell_type": "code",
   "execution_count": null,
   "metadata": {},
   "outputs": [],
   "source": [
    "complete_analogy('woman', 'home', 'man', 10)"
   ]
  },
  {
   "cell_type": "code",
   "execution_count": null,
   "metadata": {},
   "outputs": [],
   "source": []
  },
  {
   "cell_type": "code",
   "execution_count": null,
   "metadata": {},
   "outputs": [],
   "source": []
  },
  {
   "cell_type": "code",
   "execution_count": null,
   "metadata": {},
   "outputs": [],
   "source": []
  },
  {
   "cell_type": "code",
   "execution_count": null,
   "metadata": {},
   "outputs": [],
   "source": []
  },
  {
   "cell_type": "code",
   "execution_count": null,
   "metadata": {},
   "outputs": [],
   "source": []
  },
  {
   "cell_type": "code",
   "execution_count": null,
   "metadata": {},
   "outputs": [],
   "source": []
  },
  {
   "cell_type": "code",
   "execution_count": null,
   "metadata": {},
   "outputs": [],
   "source": []
  },
  {
   "cell_type": "code",
   "execution_count": null,
   "metadata": {},
   "outputs": [],
   "source": []
  }
 ],
 "metadata": {
  "kernelspec": {
   "display_name": "Python 3",
   "language": "python",
   "name": "python3"
  },
  "language_info": {
   "codemirror_mode": {
    "name": "ipython",
    "version": 3
   },
   "file_extension": ".py",
   "mimetype": "text/x-python",
   "name": "python",
   "nbconvert_exporter": "python",
   "pygments_lexer": "ipython3",
   "version": "3.8.5"
  }
 },
 "nbformat": 4,
 "nbformat_minor": 4
}
